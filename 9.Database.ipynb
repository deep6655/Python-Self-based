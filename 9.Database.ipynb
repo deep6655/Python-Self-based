{
 "cells": [
  {
   "cell_type": "markdown",
   "id": "05267c6d",
   "metadata": {},
   "source": [
    "# Exception"
   ]
  },
  {
   "cell_type": "code",
   "execution_count": 21,
   "id": "66f7aa00",
   "metadata": {},
   "outputs": [
    {
     "name": "stdout",
     "output_type": "stream",
     "text": [
      "Try is working fine\n",
      "9\n"
     ]
    }
   ],
   "source": [
    "try:\n",
    "    f = open(\"C:/Users/Ratnadeep/Desktop/python/Self Based/xyz.txt\",\"w\")\n",
    "    f.write(\"I am deep\")\n",
    "except:\n",
    "    print(\"this file is not available\")\n",
    "else:\n",
    "    print(\"Try is working fine\")\n",
    "finally:\n",
    "    print(4+5)"
   ]
  },
  {
   "cell_type": "code",
   "execution_count": 19,
   "id": "d1cfbecc",
   "metadata": {},
   "outputs": [
    {
     "name": "stdout",
     "output_type": "stream",
     "text": [
      "[Errno 2] No such file or directory: 'C:/Users/Ratnadeep/Desktop/python/Self Based/abc.txt'\n",
      "this file is not available\n",
      "9\n"
     ]
    }
   ],
   "source": [
    "try:\n",
    "    f = open(\"C:/Users/Ratnadeep/Desktop/python/Self Based/abc.txt\")\n",
    "    f.write(\"I am deep\")\n",
    "except Exception as e:\n",
    "    print(e)\n",
    "    print(\"this file is not available\")\n",
    "else:\n",
    "    print(\"Try is working fine\")\n",
    "finally:\n",
    "    print(4+5)"
   ]
  },
  {
   "cell_type": "code",
   "execution_count": 20,
   "id": "f5e11e05",
   "metadata": {},
   "outputs": [
    {
     "name": "stdout",
     "output_type": "stream",
     "text": [
      "not writable\n",
      "this file is not available\n",
      "9\n"
     ]
    }
   ],
   "source": [
    "try:\n",
    "    f = open(\"C:/Users/Ratnadeep/Desktop/python/Self Based/xyz.txt\")\n",
    "    f.write(\"I am deep\")\n",
    "except Exception as e:\n",
    "    print(e)\n",
    "    print(\"this file is not available\")\n",
    "else:\n",
    "    print(\"Try is working fine\")\n",
    "finally:\n",
    "    print(4+5)"
   ]
  },
  {
   "cell_type": "code",
   "execution_count": 24,
   "id": "47e2918a",
   "metadata": {},
   "outputs": [
    {
     "name": "stdout",
     "output_type": "stream",
     "text": [
      "Enter an Integersdf\n"
     ]
    },
    {
     "ename": "ValueError",
     "evalue": "invalid literal for int() with base 10: 'sdf'",
     "output_type": "error",
     "traceback": [
      "\u001b[1;31m---------------------------------------------------------------------------\u001b[0m",
      "\u001b[1;31mValueError\u001b[0m                                Traceback (most recent call last)",
      "\u001b[1;32m<ipython-input-24-92af04ff8ea4>\u001b[0m in \u001b[0;36m<module>\u001b[1;34m\u001b[0m\n\u001b[0;32m      1\u001b[0m \u001b[1;32mdef\u001b[0m \u001b[0maskint\u001b[0m\u001b[1;33m(\u001b[0m\u001b[1;33m)\u001b[0m\u001b[1;33m:\u001b[0m\u001b[1;33m\u001b[0m\u001b[1;33m\u001b[0m\u001b[0m\n\u001b[0;32m      2\u001b[0m     \u001b[0mv\u001b[0m \u001b[1;33m=\u001b[0m \u001b[0mint\u001b[0m\u001b[1;33m(\u001b[0m\u001b[0minput\u001b[0m\u001b[1;33m(\u001b[0m\u001b[1;34m\"Enter an Integer\"\u001b[0m\u001b[1;33m)\u001b[0m\u001b[1;33m)\u001b[0m\u001b[1;33m\u001b[0m\u001b[1;33m\u001b[0m\u001b[0m\n\u001b[1;32m----> 3\u001b[1;33m \u001b[0maskint\u001b[0m\u001b[1;33m(\u001b[0m\u001b[1;33m)\u001b[0m\u001b[1;33m\u001b[0m\u001b[1;33m\u001b[0m\u001b[0m\n\u001b[0m",
      "\u001b[1;32m<ipython-input-24-92af04ff8ea4>\u001b[0m in \u001b[0;36maskint\u001b[1;34m()\u001b[0m\n\u001b[0;32m      1\u001b[0m \u001b[1;32mdef\u001b[0m \u001b[0maskint\u001b[0m\u001b[1;33m(\u001b[0m\u001b[1;33m)\u001b[0m\u001b[1;33m:\u001b[0m\u001b[1;33m\u001b[0m\u001b[1;33m\u001b[0m\u001b[0m\n\u001b[1;32m----> 2\u001b[1;33m     \u001b[0mv\u001b[0m \u001b[1;33m=\u001b[0m \u001b[0mint\u001b[0m\u001b[1;33m(\u001b[0m\u001b[0minput\u001b[0m\u001b[1;33m(\u001b[0m\u001b[1;34m\"Enter an Integer\"\u001b[0m\u001b[1;33m)\u001b[0m\u001b[1;33m)\u001b[0m\u001b[1;33m\u001b[0m\u001b[1;33m\u001b[0m\u001b[0m\n\u001b[0m\u001b[0;32m      3\u001b[0m \u001b[0maskint\u001b[0m\u001b[1;33m(\u001b[0m\u001b[1;33m)\u001b[0m\u001b[1;33m\u001b[0m\u001b[1;33m\u001b[0m\u001b[0m\n",
      "\u001b[1;31mValueError\u001b[0m: invalid literal for int() with base 10: 'sdf'"
     ]
    }
   ],
   "source": [
    "def askint():\n",
    "    v = int(input(\"Enter an Integer\"))\n",
    "askint()"
   ]
  },
  {
   "cell_type": "code",
   "execution_count": 29,
   "id": "33da29ca",
   "metadata": {},
   "outputs": [
    {
     "name": "stdout",
     "output_type": "stream",
     "text": [
      "Enter an Integersfs\n",
      "invalid literal for int() with base 10: 'sfs'\n",
      "This is a finally block\n",
      "local variable 'v' referenced before assignment\n"
     ]
    }
   ],
   "source": [
    "def askint():\n",
    "    try:\n",
    "        v = int(input(\"Enter an Integer\"))\n",
    "    except Exception as e:\n",
    "        print(e)\n",
    "    finally:\n",
    "        print(\"This is a finally block\")\n",
    "        try:\n",
    "            print(v)\n",
    "        except Exception as e:\n",
    "            print(e)\n",
    "    \n",
    "askint()"
   ]
  },
  {
   "cell_type": "code",
   "execution_count": 3,
   "id": "438e888b",
   "metadata": {},
   "outputs": [
    {
     "name": "stdout",
     "output_type": "stream",
     "text": [
      "Enter an Integer khj\n",
      "invalid literal for int() with base 10: 'khj'\n",
      "This is a finally block\n",
      "Enter an Integer jbjk\n",
      "invalid literal for int() with base 10: 'jbjk'\n",
      "This is a finally block\n",
      "Enter an Integer 7\n",
      "Now I got a integer\n",
      "This is a finally block\n"
     ]
    }
   ],
   "source": [
    "def askint():\n",
    "    while True:\n",
    "        try:\n",
    "            v = int(input(\"Enter an Integer \"))\n",
    "        except Exception as e:\n",
    "            print(e)\n",
    "            continue\n",
    "        else:\n",
    "            print(\"Now I got a integer\")\n",
    "            break\n",
    "        finally:\n",
    "            print(\"This is a finally block\")\n",
    "    \n",
    "askint()"
   ]
  },
  {
   "cell_type": "code",
   "execution_count": 5,
   "id": "c47d1a4b",
   "metadata": {},
   "outputs": [
    {
     "name": "stdout",
     "output_type": "stream",
     "text": [
      "Enter an Integer dsfs\n",
      "invalid literal for int() with base 10: 'dsfs'\n",
      "This is a finally block\n",
      "local variable 'v' referenced before assignment\n",
      "Enter an Integer 4\n",
      "Now I got a integer\n",
      "This is a finally block\n",
      "4\n"
     ]
    }
   ],
   "source": [
    "def askint():\n",
    "    while True:\n",
    "        try:\n",
    "            v = int(input(\"Enter an Integer \"))\n",
    "        except Exception as e:\n",
    "            print(e)\n",
    "            continue\n",
    "        else:\n",
    "            print(\"Now I got a integer\")\n",
    "            break\n",
    "        finally:\n",
    "            print(\"This is a finally block\")\n",
    "            try:\n",
    "                print(v)\n",
    "            except Exception as e:\n",
    "                print(e)\n",
    "    \n",
    "askint()"
   ]
  },
  {
   "cell_type": "code",
   "execution_count": 12,
   "id": "5faeedca",
   "metadata": {},
   "outputs": [
    {
     "name": "stdout",
     "output_type": "stream",
     "text": [
      "[Errno 2] No such file or directory: 'C:/Users/Ratnadeep/Desktop/python/Self Based/abc.txt'\n",
      "this file is not available\n",
      "9\n"
     ]
    }
   ],
   "source": [
    "#different exception\n",
    "try:\n",
    "    f = open(\"C:/Users/Ratnadeep/Desktop/python/Self Based/abc.txt\")\n",
    "    f.write(\"I am deep\")\n",
    "except IOError as e:\n",
    "    print(e)\n",
    "    print(\"this file is not available\")\n",
    "except OSError as e:\n",
    "    print(e)\n",
    "    print(\"this is oserror\")\n",
    "except ValueError as e:\n",
    "    print(e)\n",
    "    print(\"this is value error\")    \n",
    "else:\n",
    "    print(\"Try is working fine\")\n",
    "finally:\n",
    "    print(4+5)"
   ]
  },
  {
   "cell_type": "code",
   "execution_count": 13,
   "id": "71596fd0",
   "metadata": {},
   "outputs": [
    {
     "name": "stdout",
     "output_type": "stream",
     "text": [
      "[Errno 2] No such file or directory: 'C:/Users/Ratnadeep/Desktop/python/Self Based/abc.txt'\n",
      "this file is not available\n",
      "9\n"
     ]
    }
   ],
   "source": [
    "#different exception\n",
    "try:\n",
    "    f = open(\"C:/Users/Ratnadeep/Desktop/python/Self Based/abc.txt\")\n",
    "    f.write(\"I am deep\")\n",
    "except IOError as e:\n",
    "    print(e)\n",
    "    print(\"this file is not available\")\n",
    "except OSError as e:\n",
    "    print(e)\n",
    "    print(\"this is oserror\")\n",
    "except ValueError as e:\n",
    "    print(e)\n",
    "    print(\"this is value error\") \n",
    "except Exception as e:\n",
    "    print(e)\n",
    "    print(\"this is value error\")\n",
    "else:\n",
    "    print(\"Try is working fine\")\n",
    "finally:\n",
    "    print(4+5)"
   ]
  },
  {
   "cell_type": "code",
   "execution_count": 14,
   "id": "1e745429",
   "metadata": {},
   "outputs": [
    {
     "name": "stdout",
     "output_type": "stream",
     "text": [
      "There is an error\n"
     ]
    }
   ],
   "source": [
    "try:\n",
    "    f = open(\"C:/Users/Ratnadeep/Desktop/python/Self Based/abc.txt\")\n",
    "    f.write(\"I am deep\")\n",
    "except (ValueError,IOError,OSError,Exception):\n",
    "    print(\"There is an error\")"
   ]
  },
  {
   "cell_type": "code",
   "execution_count": 1,
   "id": "478f21b5",
   "metadata": {},
   "outputs": [
    {
     "name": "stdout",
     "output_type": "stream",
     "text": [
      "Enter an Integer\n",
      "invalid literal for int() with base 10: ''\n"
     ]
    }
   ],
   "source": [
    "#Create my own Error\n",
    "def askint():\n",
    "    try:\n",
    "        v = int(input(\"Enter an Integer\"))\n",
    "        if v<2:\n",
    "            raise ValueError(\"This not the integer I am looking\")\n",
    "    except Exception as e:\n",
    "        print(e)\n",
    "askint()"
   ]
  },
  {
   "cell_type": "markdown",
   "id": "e665efef",
   "metadata": {},
   "source": [
    "# Data Base Connection"
   ]
  },
  {
   "cell_type": "code",
   "execution_count": 2,
   "id": "e32c0ea2",
   "metadata": {},
   "outputs": [],
   "source": [
    "import sqlite3"
   ]
  },
  {
   "cell_type": "code",
   "execution_count": 3,
   "id": "dd17a9ae",
   "metadata": {},
   "outputs": [],
   "source": [
    "c = sqlite3.connect(\"Employee\")"
   ]
  },
  {
   "cell_type": "code",
   "execution_count": 8,
   "id": "b5a17923",
   "metadata": {},
   "outputs": [
    {
     "data": {
      "text/plain": [
       "<sqlite3.Cursor at 0x273c37db5e0>"
      ]
     },
     "execution_count": 8,
     "metadata": {},
     "output_type": "execute_result"
    }
   ],
   "source": [
    "c.execute('drop table if exists abc')"
   ]
  },
  {
   "cell_type": "code",
   "execution_count": 9,
   "id": "70723dc9",
   "metadata": {},
   "outputs": [
    {
     "data": {
      "text/plain": [
       "<sqlite3.Cursor at 0x273c37db880>"
      ]
     },
     "execution_count": 9,
     "metadata": {},
     "output_type": "execute_result"
    }
   ],
   "source": [
    "c.execute('create table abc(id int,name text)')"
   ]
  },
  {
   "cell_type": "code",
   "execution_count": 20,
   "id": "07220e28",
   "metadata": {},
   "outputs": [
    {
     "data": {
      "text/plain": [
       "<sqlite3.Cursor at 0x273c37db960>"
      ]
     },
     "execution_count": 20,
     "metadata": {},
     "output_type": "execute_result"
    }
   ],
   "source": [
    "c.execute(\"insert into abc(id,name)values(3,'Bikesh')\")\n",
    "c.execute(\"insert into abc(id,name)values(2,'Rahul')\")"
   ]
  },
  {
   "cell_type": "code",
   "execution_count": 14,
   "id": "d51ad261",
   "metadata": {},
   "outputs": [],
   "source": [
    "c.commit()"
   ]
  },
  {
   "cell_type": "code",
   "execution_count": 21,
   "id": "701f3330",
   "metadata": {},
   "outputs": [
    {
     "data": {
      "text/plain": [
       "[(1, 'Deep'), (3, 'Bikesh'), (2, 'Rahul')]"
      ]
     },
     "execution_count": 21,
     "metadata": {},
     "output_type": "execute_result"
    }
   ],
   "source": [
    "list(c.execute(\"select * from abc\"))"
   ]
  },
  {
   "cell_type": "code",
   "execution_count": 17,
   "id": "cd107d4e",
   "metadata": {},
   "outputs": [
    {
     "data": {
      "text/plain": [
       "(1, 'Deep')"
      ]
     },
     "execution_count": 17,
     "metadata": {},
     "output_type": "execute_result"
    }
   ],
   "source": [
    "list(c.execute(\"select * from abc\"))[0]"
   ]
  },
  {
   "cell_type": "code",
   "execution_count": 18,
   "id": "105a03d3",
   "metadata": {},
   "outputs": [
    {
     "data": {
      "text/plain": [
       "tuple"
      ]
     },
     "execution_count": 18,
     "metadata": {},
     "output_type": "execute_result"
    }
   ],
   "source": [
    "type(list(c.execute(\"select * from abc\"))[0])"
   ]
  },
  {
   "cell_type": "code",
   "execution_count": 22,
   "id": "6065e83d",
   "metadata": {},
   "outputs": [
    {
     "name": "stdout",
     "output_type": "stream",
     "text": [
      "(1, 'Deep')\n",
      "(3, 'Bikesh')\n",
      "(2, 'Rahul')\n"
     ]
    }
   ],
   "source": [
    "for i in c.execute(\"select * from abc\"):\n",
    "    print(i)"
   ]
  },
  {
   "cell_type": "code",
   "execution_count": 23,
   "id": "6fbce12b",
   "metadata": {},
   "outputs": [
    {
     "name": "stdout",
     "output_type": "stream",
     "text": [
      "(1, 'Deep')\n"
     ]
    }
   ],
   "source": [
    "for i in c.execute(\"select * from abc where name = 'Deep'\"):\n",
    "    print(i)"
   ]
  },
  {
   "cell_type": "code",
   "execution_count": null,
   "id": "0cf061d5",
   "metadata": {},
   "outputs": [],
   "source": []
  }
 ],
 "metadata": {
  "kernelspec": {
   "display_name": "Python 3",
   "language": "python",
   "name": "python3"
  },
  "language_info": {
   "codemirror_mode": {
    "name": "ipython",
    "version": 3
   },
   "file_extension": ".py",
   "mimetype": "text/x-python",
   "name": "python",
   "nbconvert_exporter": "python",
   "pygments_lexer": "ipython3",
   "version": "3.8.8"
  }
 },
 "nbformat": 4,
 "nbformat_minor": 5
}
