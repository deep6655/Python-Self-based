{
 "cells": [
  {
   "cell_type": "code",
   "execution_count": 1,
   "id": "190c9805",
   "metadata": {},
   "outputs": [
    {
     "data": {
      "text/plain": [
       "2"
      ]
     },
     "execution_count": 1,
     "metadata": {},
     "output_type": "execute_result"
    }
   ],
   "source": [
    "1+1"
   ]
  },
  {
   "cell_type": "markdown",
   "id": "35fd93fd",
   "metadata": {},
   "source": [
    "Document"
   ]
  },
  {
   "cell_type": "code",
   "execution_count": 2,
   "id": "393f45b3",
   "metadata": {},
   "outputs": [],
   "source": [
    "a = 10"
   ]
  },
  {
   "cell_type": "code",
   "execution_count": 3,
   "id": "5bd67a2b",
   "metadata": {},
   "outputs": [
    {
     "data": {
      "text/plain": [
       "int"
      ]
     },
     "execution_count": 3,
     "metadata": {},
     "output_type": "execute_result"
    }
   ],
   "source": [
    "type(a)"
   ]
  },
  {
   "cell_type": "code",
   "execution_count": 4,
   "id": "349d0a35",
   "metadata": {},
   "outputs": [
    {
     "data": {
      "text/plain": [
       "float"
      ]
     },
     "execution_count": 4,
     "metadata": {},
     "output_type": "execute_result"
    }
   ],
   "source": [
    "b =1.55\n",
    "type(b)"
   ]
  },
  {
   "cell_type": "code",
   "execution_count": 6,
   "id": "5b5fe965",
   "metadata": {},
   "outputs": [
    {
     "name": "stdout",
     "output_type": "stream",
     "text": [
      "deep\n"
     ]
    },
    {
     "data": {
      "text/plain": [
       "str"
      ]
     },
     "execution_count": 6,
     "metadata": {},
     "output_type": "execute_result"
    }
   ],
   "source": [
    "c = 'deep'\n",
    "print(c)\n",
    "type(c)"
   ]
  },
  {
   "cell_type": "code",
   "execution_count": 7,
   "id": "356613be",
   "metadata": {},
   "outputs": [
    {
     "data": {
      "text/plain": [
       "complex"
      ]
     },
     "execution_count": 7,
     "metadata": {},
     "output_type": "execute_result"
    }
   ],
   "source": [
    "d = 5+7j\n",
    "type(d)"
   ]
  },
  {
   "cell_type": "code",
   "execution_count": 8,
   "id": "dac387a3",
   "metadata": {},
   "outputs": [
    {
     "data": {
      "text/plain": [
       "7.0"
      ]
     },
     "execution_count": 8,
     "metadata": {},
     "output_type": "execute_result"
    }
   ],
   "source": [
    "d.imag"
   ]
  },
  {
   "cell_type": "code",
   "execution_count": 9,
   "id": "71436f66",
   "metadata": {},
   "outputs": [
    {
     "data": {
      "text/plain": [
       "5.0"
      ]
     },
     "execution_count": 9,
     "metadata": {},
     "output_type": "execute_result"
    }
   ],
   "source": [
    "d.real"
   ]
  },
  {
   "cell_type": "code",
   "execution_count": 11,
   "id": "bc5d5f55",
   "metadata": {},
   "outputs": [
    {
     "data": {
      "text/plain": [
       "<function complex.conjugate>"
      ]
     },
     "execution_count": 11,
     "metadata": {},
     "output_type": "execute_result"
    }
   ],
   "source": [
    "(d.conjugate)"
   ]
  },
  {
   "cell_type": "code",
   "execution_count": 12,
   "id": "3401ba2c",
   "metadata": {},
   "outputs": [
    {
     "data": {
      "text/plain": [
       "2"
      ]
     },
     "execution_count": 12,
     "metadata": {},
     "output_type": "execute_result"
    }
   ],
   "source": [
    "c = True\n",
    "c+ True"
   ]
  },
  {
   "cell_type": "code",
   "execution_count": 13,
   "id": "eb4b6520",
   "metadata": {},
   "outputs": [
    {
     "data": {
      "text/plain": [
       "'i \"am\" deep.full name \\'is\\' '"
      ]
     },
     "execution_count": 13,
     "metadata": {},
     "output_type": "execute_result"
    }
   ],
   "source": [
    "st1 = '''i \"am\" deep.full name 'is' '''\n",
    "st1"
   ]
  },
  {
   "cell_type": "code",
   "execution_count": 14,
   "id": "51407fc5",
   "metadata": {},
   "outputs": [
    {
     "data": {
      "text/plain": [
       "'ineuron'"
      ]
     },
     "execution_count": 14,
     "metadata": {},
     "output_type": "execute_result"
    }
   ],
   "source": [
    "s = 'ineuron'\n",
    "s"
   ]
  },
  {
   "cell_type": "code",
   "execution_count": 15,
   "id": "4b53bd8a",
   "metadata": {},
   "outputs": [
    {
     "data": {
      "text/plain": [
       "2384692451952"
      ]
     },
     "execution_count": 15,
     "metadata": {},
     "output_type": "execute_result"
    }
   ],
   "source": [
    "id(s)"
   ]
  },
  {
   "cell_type": "code",
   "execution_count": 16,
   "id": "9c34703f",
   "metadata": {},
   "outputs": [
    {
     "data": {
      "text/plain": [
       "'i'"
      ]
     },
     "execution_count": 16,
     "metadata": {},
     "output_type": "execute_result"
    }
   ],
   "source": [
    "s = 'ineuron'\n",
    "s[0]"
   ]
  },
  {
   "cell_type": "code",
   "execution_count": 17,
   "id": "ef830e42",
   "metadata": {},
   "outputs": [
    {
     "data": {
      "text/plain": [
       "'o'"
      ]
     },
     "execution_count": 17,
     "metadata": {},
     "output_type": "execute_result"
    }
   ],
   "source": [
    "s[-2]"
   ]
  },
  {
   "cell_type": "code",
   "execution_count": 18,
   "id": "00f00346",
   "metadata": {},
   "outputs": [
    {
     "data": {
      "text/plain": [
       "'ineur'"
      ]
     },
     "execution_count": 18,
     "metadata": {},
     "output_type": "execute_result"
    }
   ],
   "source": [
    "s[0:5]"
   ]
  },
  {
   "cell_type": "code",
   "execution_count": 22,
   "id": "8909363d",
   "metadata": {},
   "outputs": [
    {
     "data": {
      "text/plain": [
       "'iern'"
      ]
     },
     "execution_count": 22,
     "metadata": {},
     "output_type": "execute_result"
    }
   ],
   "source": [
    "s[0:7:2]"
   ]
  },
  {
   "cell_type": "code",
   "execution_count": 30,
   "id": "44ebe9bb",
   "metadata": {},
   "outputs": [
    {
     "data": {
      "text/plain": [
       "'norueni'"
      ]
     },
     "execution_count": 30,
     "metadata": {},
     "output_type": "execute_result"
    }
   ],
   "source": [
    "s[6::-1]"
   ]
  },
  {
   "cell_type": "code",
   "execution_count": 32,
   "id": "eece3109",
   "metadata": {},
   "outputs": [
    {
     "data": {
      "text/plain": [
       "'orueni'"
      ]
     },
     "execution_count": 32,
     "metadata": {},
     "output_type": "execute_result"
    }
   ],
   "source": [
    "s[5::-1]"
   ]
  },
  {
   "cell_type": "code",
   "execution_count": 33,
   "id": "5b2126b1",
   "metadata": {},
   "outputs": [
    {
     "data": {
      "text/plain": [
       "'oruen'"
      ]
     },
     "execution_count": 33,
     "metadata": {},
     "output_type": "execute_result"
    }
   ],
   "source": [
    "s[5:0:-1]"
   ]
  },
  {
   "cell_type": "code",
   "execution_count": 34,
   "id": "e2bfa15e",
   "metadata": {},
   "outputs": [
    {
     "data": {
      "text/plain": [
       "list"
      ]
     },
     "execution_count": 34,
     "metadata": {},
     "output_type": "execute_result"
    }
   ],
   "source": [
    "l = []\n",
    "type(l)"
   ]
  },
  {
   "cell_type": "code",
   "execution_count": 35,
   "id": "87df6f1a",
   "metadata": {},
   "outputs": [
    {
     "data": {
      "text/plain": [
       "[]"
      ]
     },
     "execution_count": 35,
     "metadata": {},
     "output_type": "execute_result"
    }
   ],
   "source": [
    "l"
   ]
  },
  {
   "cell_type": "code",
   "execution_count": 36,
   "id": "c842bceb",
   "metadata": {},
   "outputs": [
    {
     "data": {
      "text/plain": [
       "[]"
      ]
     },
     "execution_count": 36,
     "metadata": {},
     "output_type": "execute_result"
    }
   ],
   "source": [
    "l1 = list()\n",
    "l1"
   ]
  },
  {
   "cell_type": "code",
   "execution_count": 37,
   "id": "964242d6",
   "metadata": {},
   "outputs": [
    {
     "data": {
      "text/plain": [
       "[1, 'Deep', 'Halder', 45.2, True, (5+5j)]"
      ]
     },
     "execution_count": 37,
     "metadata": {},
     "output_type": "execute_result"
    }
   ],
   "source": [
    "c = [1,'Deep','Halder',45.2,True,5+5j]\n",
    "c"
   ]
  },
  {
   "cell_type": "code",
   "execution_count": 38,
   "id": "4f3c42df",
   "metadata": {},
   "outputs": [
    {
     "data": {
      "text/plain": [
       "'Halder'"
      ]
     },
     "execution_count": 38,
     "metadata": {},
     "output_type": "execute_result"
    }
   ],
   "source": [
    "c[2]"
   ]
  },
  {
   "cell_type": "code",
   "execution_count": 39,
   "id": "123f5250",
   "metadata": {},
   "outputs": [
    {
     "data": {
      "text/plain": [
       "(5+5j)"
      ]
     },
     "execution_count": 39,
     "metadata": {},
     "output_type": "execute_result"
    }
   ],
   "source": [
    "c[-1]"
   ]
  },
  {
   "cell_type": "code",
   "execution_count": 40,
   "id": "7697bd65",
   "metadata": {},
   "outputs": [
    {
     "data": {
      "text/plain": [
       "complex"
      ]
     },
     "execution_count": 40,
     "metadata": {},
     "output_type": "execute_result"
    }
   ],
   "source": [
    "type(c[-1])"
   ]
  },
  {
   "cell_type": "code",
   "execution_count": 41,
   "id": "cc1dc708",
   "metadata": {},
   "outputs": [
    {
     "data": {
      "text/plain": [
       "[1, 'Deep', 'Halder', 45.2, True, (5+5j), ['deep', 8, False]]"
      ]
     },
     "execution_count": 41,
     "metadata": {},
     "output_type": "execute_result"
    }
   ],
   "source": [
    "c2 = [1,'Deep','Halder',45.2,True,5+5j,['deep',8,False]]\n",
    "c2"
   ]
  },
  {
   "cell_type": "code",
   "execution_count": 42,
   "id": "e65fbed9",
   "metadata": {},
   "outputs": [
    {
     "data": {
      "text/plain": [
       "8"
      ]
     },
     "execution_count": 42,
     "metadata": {},
     "output_type": "execute_result"
    }
   ],
   "source": [
    "c2[-1][1]"
   ]
  },
  {
   "cell_type": "code",
   "execution_count": 43,
   "id": "219c4d9a",
   "metadata": {},
   "outputs": [
    {
     "data": {
      "text/plain": [
       "[1, 'Deep', 'Halder']"
      ]
     },
     "execution_count": 43,
     "metadata": {},
     "output_type": "execute_result"
    }
   ],
   "source": [
    "c2[0:3]"
   ]
  },
  {
   "cell_type": "code",
   "execution_count": 44,
   "id": "1c517df1",
   "metadata": {},
   "outputs": [
    {
     "data": {
      "text/plain": [
       "[1, 'Deep', 'Halder', 45.2, True, (5+5j), ['deep', 8, False]]"
      ]
     },
     "execution_count": 44,
     "metadata": {},
     "output_type": "execute_result"
    }
   ],
   "source": [
    "c2[0:50]"
   ]
  },
  {
   "cell_type": "code",
   "execution_count": 45,
   "id": "4cb09ba8",
   "metadata": {},
   "outputs": [
    {
     "ename": "IndexError",
     "evalue": "list index out of range",
     "output_type": "error",
     "traceback": [
      "\u001b[1;31m---------------------------------------------------------------------------\u001b[0m",
      "\u001b[1;31mIndexError\u001b[0m                                Traceback (most recent call last)",
      "\u001b[1;32m<ipython-input-45-14258a5e8226>\u001b[0m in \u001b[0;36m<module>\u001b[1;34m\u001b[0m\n\u001b[1;32m----> 1\u001b[1;33m \u001b[0mc2\u001b[0m\u001b[1;33m[\u001b[0m\u001b[1;36m8\u001b[0m\u001b[1;33m]\u001b[0m\u001b[1;33m\u001b[0m\u001b[1;33m\u001b[0m\u001b[0m\n\u001b[0m",
      "\u001b[1;31mIndexError\u001b[0m: list index out of range"
     ]
    }
   ],
   "source": [
    " c2[8]"
   ]
  },
  {
   "cell_type": "code",
   "execution_count": 46,
   "id": "c2c0721d",
   "metadata": {},
   "outputs": [
    {
     "data": {
      "text/plain": [
       "[['deep', 8, False], (5+5j), True, 45.2, 'Halder', 'Deep', 1]"
      ]
     },
     "execution_count": 46,
     "metadata": {},
     "output_type": "execute_result"
    }
   ],
   "source": [
    "c2[::-1]\n",
    "\n"
   ]
  },
  {
   "cell_type": "code",
   "execution_count": 47,
   "id": "d595eeaf",
   "metadata": {},
   "outputs": [
    {
     "data": {
      "text/plain": [
       "[['deep', 8, False], (5+5j), True]"
      ]
     },
     "execution_count": 47,
     "metadata": {},
     "output_type": "execute_result"
    }
   ],
   "source": [
    "c2[-1:-4:-1]\n"
   ]
  },
  {
   "cell_type": "code",
   "execution_count": null,
   "id": "ec8750a6",
   "metadata": {},
   "outputs": [],
   "source": []
  }
 ],
 "metadata": {
  "kernelspec": {
   "display_name": "Python 3",
   "language": "python",
   "name": "python3"
  },
  "language_info": {
   "codemirror_mode": {
    "name": "ipython",
    "version": 3
   },
   "file_extension": ".py",
   "mimetype": "text/x-python",
   "name": "python",
   "nbconvert_exporter": "python",
   "pygments_lexer": "ipython3",
   "version": "3.8.8"
  }
 },
 "nbformat": 4,
 "nbformat_minor": 5
}
