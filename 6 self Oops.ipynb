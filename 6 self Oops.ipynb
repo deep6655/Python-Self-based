{
 "cells": [
  {
   "cell_type": "code",
   "execution_count": 5,
   "id": "c3013813",
   "metadata": {},
   "outputs": [
    {
     "name": "stdout",
     "output_type": "stream",
     "text": [
      "ID: 10 \n",
      "Name: Deep\n"
     ]
    }
   ],
   "source": [
    "class Employee:\n",
    "    id = 10\n",
    "    name = \"Deep\"\n",
    "    def display(self):\n",
    "          print(\"ID: %d \\nName: %s\"%(self.id,self.name))\n",
    "emp = Employee()\n",
    "emp.display()"
   ]
  },
  {
   "cell_type": "code",
   "execution_count": 13,
   "id": "666a824e",
   "metadata": {},
   "outputs": [
    {
     "ename": "NameError",
     "evalue": "name 'emp' is not defined",
     "output_type": "error",
     "traceback": [
      "\u001b[1;31m---------------------------------------------------------------------------\u001b[0m",
      "\u001b[1;31mNameError\u001b[0m                                 Traceback (most recent call last)",
      "\u001b[1;32m<ipython-input-13-ef264dda1b97>\u001b[0m in \u001b[0;36m<module>\u001b[1;34m\u001b[0m\n\u001b[0;32m      7\u001b[0m \u001b[0mcus\u001b[0m \u001b[1;33m=\u001b[0m \u001b[0mCustomer\u001b[0m\u001b[1;33m(\u001b[0m\u001b[1;33m)\u001b[0m\u001b[1;33m\u001b[0m\u001b[1;33m\u001b[0m\u001b[0m\n\u001b[0;32m      8\u001b[0m \u001b[1;31m# Deleting the property of object\u001b[0m\u001b[1;33m\u001b[0m\u001b[1;33m\u001b[0m\u001b[1;33m\u001b[0m\u001b[0m\n\u001b[1;32m----> 9\u001b[1;33m \u001b[1;32mdel\u001b[0m \u001b[0memp\u001b[0m\u001b[1;33m.\u001b[0m\u001b[0mid\u001b[0m\u001b[1;33m\u001b[0m\u001b[1;33m\u001b[0m\u001b[0m\n\u001b[0m\u001b[0;32m     10\u001b[0m \u001b[1;31m# Deleting the object itself\u001b[0m\u001b[1;33m\u001b[0m\u001b[1;33m\u001b[0m\u001b[1;33m\u001b[0m\u001b[0m\n\u001b[0;32m     11\u001b[0m \u001b[1;32mdel\u001b[0m \u001b[0mcus\u001b[0m\u001b[1;33m\u001b[0m\u001b[1;33m\u001b[0m\u001b[0m\n",
      "\u001b[1;31mNameError\u001b[0m: name 'emp' is not defined"
     ]
    }
   ],
   "source": [
    "#delete the object\n",
    "class Customer:\n",
    "    id = 4\n",
    "    name = 'Rahul'\n",
    "    def display(self):\n",
    "        print(\"ID: %d \\nName: %s\"%(self.id,self.name))\n",
    "cus = Customer()\n",
    "# Deleting the property of object  \n",
    "del emp.id  \n",
    "# Deleting the object itself  \n",
    "del cus \n",
    "cus.display()"
   ]
  },
  {
   "cell_type": "code",
   "execution_count": 15,
   "id": "7e82f4a1",
   "metadata": {},
   "outputs": [
    {
     "data": {
      "text/plain": [
       "'\\nCreating the constructor in python\\nIn Python, the method the __init__() simulates the constructor of the class. \\nThis method is called when the class is instantiated. \\nIt accepts the self-keyword as a first argument which allows accessing the attributes or method of the class.\\n'"
      ]
     },
     "execution_count": 15,
     "metadata": {},
     "output_type": "execute_result"
    }
   ],
   "source": [
    "\"\"\"\n",
    "Creating the constructor in python\n",
    "In Python, the method the __init__() simulates the constructor of the class. \n",
    "This method is called when the class is instantiated. \n",
    "It accepts the self-keyword as a first argument which allows accessing the attributes or method of the class.\n",
    "\"\"\""
   ]
  },
  {
   "cell_type": "code",
   "execution_count": 19,
   "id": "c2ffa565",
   "metadata": {},
   "outputs": [
    {
     "name": "stdout",
     "output_type": "stream",
     "text": [
      "Roll: 1 \n",
      "Name: deep\n",
      "Roll: 2 \n",
      "Name: Puja\n"
     ]
    }
   ],
   "source": [
    "class student:\n",
    "    def __init__(self,roll,name):\n",
    "        self.roll = roll\n",
    "        self.name = name\n",
    "    def display(self):\n",
    "        print(\"Roll: %d \\nName: %s\"%(self.roll,self.name))\n",
    "s1 = student(1,'deep')\n",
    "s2 = student(2,'Puja')\n",
    "\n",
    "s1.display()\n",
    "s2.display()"
   ]
  },
  {
   "cell_type": "code",
   "execution_count": 20,
   "id": "a385444a",
   "metadata": {},
   "outputs": [
    {
     "name": "stdout",
     "output_type": "stream",
     "text": [
      "This is non parametrized constructor\n",
      "Hello John\n"
     ]
    }
   ],
   "source": [
    "class Student:  \n",
    "    # Constructor - non parameterized  \n",
    "    def __init__(self):  \n",
    "        print(\"This is non parametrized constructor\")  \n",
    "    def show(self,name):  \n",
    "        print(\"Hello\",name)  \n",
    "student = Student()  \n",
    "student.show(\"John\")  "
   ]
  },
  {
   "cell_type": "code",
   "execution_count": 21,
   "id": "89150717",
   "metadata": {},
   "outputs": [
    {
     "name": "stdout",
     "output_type": "stream",
     "text": [
      "This is parametrized constructor\n",
      "Hello John\n"
     ]
    }
   ],
   "source": [
    "class Student:  \n",
    "    # Constructor - parameterized  \n",
    "    def __init__(self, name):  \n",
    "        print(\"This is parametrized constructor\")  \n",
    "        self.name = name  \n",
    "    def show(self):  \n",
    "        print(\"Hello\",self.name)  \n",
    "student = Student(\"John\")  \n",
    "student.show() "
   ]
  },
  {
   "cell_type": "code",
   "execution_count": 23,
   "id": "bdd84c83",
   "metadata": {},
   "outputs": [
    {
     "name": "stdout",
     "output_type": "stream",
     "text": [
      "101 Joseph\n"
     ]
    }
   ],
   "source": [
    "#default contructor\n",
    "\"\"\"\n",
    "When we do not include the constructor in the class or forget to declare it, \n",
    "then that becomes the default constructor.\n",
    "\"\"\"\n",
    "class Student:  \n",
    "    roll_num = 101  \n",
    "    name = \"Joseph\"  \n",
    "  \n",
    "    def display(self):  \n",
    "        print(self.roll_num,self.name)  \n",
    "  \n",
    "st = Student()  \n",
    "st.display()  "
   ]
  },
  {
   "cell_type": "code",
   "execution_count": 24,
   "id": "07d9e55a",
   "metadata": {},
   "outputs": [
    {
     "name": "stdout",
     "output_type": "stream",
     "text": [
      "The second contructor\n"
     ]
    }
   ],
   "source": [
    "#More than One Constructor in Single class\n",
    "class Student:  \n",
    "    def __init__(self):  \n",
    "        print(\"The First Constructor\")  \n",
    "    def __init__(self):  \n",
    "        print(\"The second contructor\")  \n",
    "  \n",
    "st = Student()  "
   ]
  },
  {
   "cell_type": "code",
   "execution_count": null,
   "id": "62650b6e",
   "metadata": {},
   "outputs": [],
   "source": []
  }
 ],
 "metadata": {
  "kernelspec": {
   "display_name": "Python 3",
   "language": "python",
   "name": "python3"
  },
  "language_info": {
   "codemirror_mode": {
    "name": "ipython",
    "version": 3
   },
   "file_extension": ".py",
   "mimetype": "text/x-python",
   "name": "python",
   "nbconvert_exporter": "python",
   "pygments_lexer": "ipython3",
   "version": "3.8.8"
  }
 },
 "nbformat": 4,
 "nbformat_minor": 5
}
