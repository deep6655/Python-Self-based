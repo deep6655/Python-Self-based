{
 "cells": [
  {
   "cell_type": "code",
   "execution_count": 1,
   "id": "aee81823",
   "metadata": {},
   "outputs": [
    {
     "name": "stdout",
     "output_type": "stream",
     "text": [
      "My nam is Deep.\n"
     ]
    }
   ],
   "source": [
    "#method overriding\n",
    "class person():\n",
    "    def __init__(self,a,b,c):\n",
    "        self.a = a\n",
    "        self.b = b\n",
    "        self.c = c\n",
    "    def __str__(self):\n",
    "        return \"My nam is Deep.\"\n",
    "p = person(4,5,6)\n",
    "print(p)"
   ]
  },
  {
   "cell_type": "code",
   "execution_count": 5,
   "id": "8dd150e2",
   "metadata": {},
   "outputs": [
    {
     "name": "stdout",
     "output_type": "stream",
     "text": [
      "My nam is Deep.I am a student\n"
     ]
    }
   ],
   "source": [
    "class student(person):\n",
    "    def __init__(self,st_id,*args):\n",
    "        super(student,self).__init__(*args)\n",
    "        self.st_id = st_id\n",
    "    def __str__(self):\n",
    "        return super(student,self).__str__() + 'I am a student'\n",
    "s = student(7,8,9,8)\n",
    "print(s)"
   ]
  },
  {
   "cell_type": "code",
   "execution_count": 3,
   "id": "62bd246e",
   "metadata": {},
   "outputs": [],
   "source": [
    "#incapsulation\n",
    "class tyre:\n",
    "    def __init__(self,branch,baise,opt_press):\n",
    "        self.branch = branch\n",
    "        self.baise = baise\n",
    "        self.opt_press = opt_press\n",
    "    def __str__(self):\n",
    "        return str(self.branch)+\" \"+str(self.baise)+\" \"+str(self.opt_press) "
   ]
  },
  {
   "cell_type": "code",
   "execution_count": 4,
   "id": "2fcca9f0",
   "metadata": {},
   "outputs": [
    {
     "name": "stdout",
     "output_type": "stream",
     "text": [
      "abc 65 87\n"
     ]
    }
   ],
   "source": [
    "t = tyre(\"abc\",65,87)\n",
    "print(t)"
   ]
  },
  {
   "cell_type": "code",
   "execution_count": 5,
   "id": "5cd71cdd",
   "metadata": {},
   "outputs": [],
   "source": [
    "class engine:\n",
    "    def __init__(self,fuel_type,noise_level):\n",
    "        self.fuel_type = fuel_type\n",
    "        self.noise_level = noise_level\n",
    "    def __str__(self):\n",
    "        return str(self.fuel_type)+\" \"+str(self.noise_level)"
   ]
  },
  {
   "cell_type": "code",
   "execution_count": 6,
   "id": "5d3e9339",
   "metadata": {},
   "outputs": [
    {
     "name": "stdout",
     "output_type": "stream",
     "text": [
      "petrol 87\n"
     ]
    }
   ],
   "source": [
    "e = engine(\"petrol\",87)\n",
    "print(e)"
   ]
  },
  {
   "cell_type": "code",
   "execution_count": 9,
   "id": "24b13f01",
   "metadata": {},
   "outputs": [],
   "source": [
    "class body:\n",
    "    def __init__(self,body_size):\n",
    "        self.body_size = body_size\n",
    "    def __str__(self):\n",
    "        return \"This is the def of engine class\"+\" \"+str(self.body_size)"
   ]
  },
  {
   "cell_type": "code",
   "execution_count": 10,
   "id": "35d1bc5a",
   "metadata": {},
   "outputs": [
    {
     "name": "stdout",
     "output_type": "stream",
     "text": [
      "This is the def of engine class small\n"
     ]
    }
   ],
   "source": [
    "b = body(\"small\")\n",
    "print(b)"
   ]
  },
  {
   "cell_type": "code",
   "execution_count": 11,
   "id": "b04559bc",
   "metadata": {},
   "outputs": [],
   "source": [
    "class car:\n",
    "    def __init__(self,ty,ee,bo):\n",
    "        self.ty = ty\n",
    "        self.ee = ee\n",
    "        self.bo = bo\n",
    "    def __str__(self):\n",
    "        return str(self.ty)+\" \"+str(self.ee)+\" \"+str(self.bo)"
   ]
  },
  {
   "cell_type": "code",
   "execution_count": 14,
   "id": "29b09373",
   "metadata": {},
   "outputs": [
    {
     "name": "stdout",
     "output_type": "stream",
     "text": [
      "abc 65 87 petrol 87 This is the def of engine class small\n"
     ]
    }
   ],
   "source": [
    "#composite incapsulation\n",
    "c = car(t,e,b)\n",
    "print(c)"
   ]
  },
  {
   "cell_type": "code",
   "execution_count": 15,
   "id": "a29daf65",
   "metadata": {},
   "outputs": [
    {
     "name": "stdout",
     "output_type": "stream",
     "text": [
      "abc 65 87 petrol 87 This is the def of engine class small\n"
     ]
    }
   ],
   "source": [
    "#dynamic incapsulation\n",
    "c = car(t,e,\"This is the def of engine class small\")\n",
    "print(c)"
   ]
  },
  {
   "cell_type": "code",
   "execution_count": 16,
   "id": "5f01d450",
   "metadata": {},
   "outputs": [],
   "source": [
    "#polymorphisim\n",
    "#behavior is different in different situation but method is same\n",
    "def add_x(a,b):\n",
    "    return a+b"
   ]
  },
  {
   "cell_type": "code",
   "execution_count": 17,
   "id": "41bc9779",
   "metadata": {},
   "outputs": [
    {
     "data": {
      "text/plain": [
       "'ratnadeep'"
      ]
     },
     "execution_count": 17,
     "metadata": {},
     "output_type": "execute_result"
    }
   ],
   "source": [
    "add_x(\"ratna\",\"deep\")"
   ]
  },
  {
   "cell_type": "code",
   "execution_count": 18,
   "id": "b71797c7",
   "metadata": {},
   "outputs": [
    {
     "data": {
      "text/plain": [
       "13"
      ]
     },
     "execution_count": 18,
     "metadata": {},
     "output_type": "execute_result"
    }
   ],
   "source": [
    "add_x(5,8)"
   ]
  },
  {
   "cell_type": "code",
   "execution_count": 19,
   "id": "950e38d9",
   "metadata": {},
   "outputs": [
    {
     "data": {
      "text/plain": [
       "[5, 6, 71, 1, 2, 3, 4]"
      ]
     },
     "execution_count": 19,
     "metadata": {},
     "output_type": "execute_result"
    }
   ],
   "source": [
    "add_x([5,6,71],[1,2,3,4])"
   ]
  },
  {
   "cell_type": "markdown",
   "id": "3dfb9157",
   "metadata": {},
   "source": [
    "# File Handeling"
   ]
  },
  {
   "cell_type": "code",
   "execution_count": 1,
   "id": "8d8087e1",
   "metadata": {},
   "outputs": [
    {
     "name": "stdout",
     "output_type": "stream",
     "text": [
      "Writing xyz.txt\n"
     ]
    }
   ],
   "source": [
    "%%writefile xyz.txt\n",
    "my name is deep"
   ]
  },
  {
   "cell_type": "code",
   "execution_count": 2,
   "id": "d68e3d09",
   "metadata": {},
   "outputs": [
    {
     "data": {
      "text/plain": [
       "'C:\\\\Users\\\\Ratnadeep\\\\Desktop\\\\python\\\\Self Based'"
      ]
     },
     "execution_count": 2,
     "metadata": {},
     "output_type": "execute_result"
    }
   ],
   "source": [
    "pwd()"
   ]
  },
  {
   "cell_type": "code",
   "execution_count": 10,
   "id": "ef69eac0",
   "metadata": {},
   "outputs": [
    {
     "data": {
      "text/plain": [
       "<_io.TextIOWrapper name='xyz.txt' mode='r' encoding='cp1252'>"
      ]
     },
     "execution_count": 10,
     "metadata": {},
     "output_type": "execute_result"
    }
   ],
   "source": [
    "f = open('xyz.txt') \n",
    "f"
   ]
  },
  {
   "cell_type": "code",
   "execution_count": 11,
   "id": "e4e45e56",
   "metadata": {},
   "outputs": [
    {
     "data": {
      "text/plain": [
       "'my name is deep\\n'"
      ]
     },
     "execution_count": 11,
     "metadata": {},
     "output_type": "execute_result"
    }
   ],
   "source": [
    "f.read()"
   ]
  },
  {
   "cell_type": "code",
   "execution_count": 12,
   "id": "03e8cf83",
   "metadata": {},
   "outputs": [
    {
     "data": {
      "text/plain": [
       "2"
      ]
     },
     "execution_count": 12,
     "metadata": {},
     "output_type": "execute_result"
    }
   ],
   "source": [
    "f.seek(2)"
   ]
  },
  {
   "cell_type": "code",
   "execution_count": 13,
   "id": "063dbaac",
   "metadata": {},
   "outputs": [
    {
     "data": {
      "text/plain": [
       "' name is deep\\n'"
      ]
     },
     "execution_count": 13,
     "metadata": {},
     "output_type": "execute_result"
    }
   ],
   "source": [
    "f.read()"
   ]
  },
  {
   "cell_type": "code",
   "execution_count": 16,
   "id": "a9b43def",
   "metadata": {},
   "outputs": [
    {
     "data": {
      "text/plain": [
       "24"
      ]
     },
     "execution_count": 16,
     "metadata": {},
     "output_type": "execute_result"
    }
   ],
   "source": [
    "#update the full file\n",
    "f1 = open('xyz.txt','w+') \n",
    "f1.write(\"title is halder \\n hghjbn\")"
   ]
  },
  {
   "cell_type": "code",
   "execution_count": 17,
   "id": "e3a0ef47",
   "metadata": {},
   "outputs": [
    {
     "data": {
      "text/plain": [
       "'title is halder \\n hghjbn'"
      ]
     },
     "execution_count": 17,
     "metadata": {},
     "output_type": "execute_result"
    }
   ],
   "source": [
    "f1.seek(0)\n",
    "f1.read()"
   ]
  },
  {
   "cell_type": "code",
   "execution_count": 18,
   "id": "c330908e",
   "metadata": {},
   "outputs": [
    {
     "name": "stdout",
     "output_type": "stream",
     "text": [
      "title is halder \n",
      "\n",
      " hghjbn\n"
     ]
    }
   ],
   "source": [
    "#for multiple line print\n",
    "for i in open('xyz.txt'):\n",
    "    print(i)"
   ]
  },
  {
   "cell_type": "code",
   "execution_count": 20,
   "id": "2a66eb2f",
   "metadata": {},
   "outputs": [],
   "source": [
    "s = 'Deep'"
   ]
  },
  {
   "cell_type": "code",
   "execution_count": 31,
   "id": "1607c980",
   "metadata": {},
   "outputs": [],
   "source": [
    "#for convert string into file\n",
    "from io import StringIO"
   ]
  },
  {
   "cell_type": "code",
   "execution_count": 32,
   "id": "16e1940a",
   "metadata": {},
   "outputs": [
    {
     "name": "stdout",
     "output_type": "stream",
     "text": [
      "ratna\n"
     ]
    }
   ],
   "source": [
    "s = input()\n",
    "s1 = StringIO(s)"
   ]
  },
  {
   "cell_type": "code",
   "execution_count": 33,
   "id": "49bf5daa",
   "metadata": {},
   "outputs": [
    {
     "data": {
      "text/plain": [
       "_io.StringIO"
      ]
     },
     "execution_count": 33,
     "metadata": {},
     "output_type": "execute_result"
    }
   ],
   "source": [
    "type(s1)"
   ]
  },
  {
   "cell_type": "code",
   "execution_count": 34,
   "id": "bc2e759f",
   "metadata": {},
   "outputs": [
    {
     "data": {
      "text/plain": [
       "'ratna'"
      ]
     },
     "execution_count": 34,
     "metadata": {},
     "output_type": "execute_result"
    }
   ],
   "source": [
    "s1.read()"
   ]
  },
  {
   "cell_type": "code",
   "execution_count": 35,
   "id": "6382d8e7",
   "metadata": {},
   "outputs": [
    {
     "data": {
      "text/plain": [
       "''"
      ]
     },
     "execution_count": 35,
     "metadata": {},
     "output_type": "execute_result"
    }
   ],
   "source": [
    "s1.read()"
   ]
  },
  {
   "cell_type": "code",
   "execution_count": 36,
   "id": "792d4018",
   "metadata": {},
   "outputs": [
    {
     "data": {
      "text/plain": [
       "1"
      ]
     },
     "execution_count": 36,
     "metadata": {},
     "output_type": "execute_result"
    }
   ],
   "source": [
    "s1.seek(1)"
   ]
  },
  {
   "cell_type": "code",
   "execution_count": 37,
   "id": "81f8c9d0",
   "metadata": {},
   "outputs": [
    {
     "data": {
      "text/plain": [
       "'atna'"
      ]
     },
     "execution_count": 37,
     "metadata": {},
     "output_type": "execute_result"
    }
   ],
   "source": [
    "s1.read()"
   ]
  },
  {
   "cell_type": "code",
   "execution_count": 42,
   "id": "d2f152a2",
   "metadata": {},
   "outputs": [
    {
     "data": {
      "text/plain": [
       "15"
      ]
     },
     "execution_count": 42,
     "metadata": {},
     "output_type": "execute_result"
    }
   ],
   "source": [
    "s1 .write('My name is Deep')"
   ]
  },
  {
   "cell_type": "code",
   "execution_count": 43,
   "id": "c10e898c",
   "metadata": {},
   "outputs": [
    {
     "data": {
      "text/plain": [
       "''"
      ]
     },
     "execution_count": 43,
     "metadata": {},
     "output_type": "execute_result"
    }
   ],
   "source": [
    "s1.read()"
   ]
  },
  {
   "cell_type": "code",
   "execution_count": 44,
   "id": "1d9085ce",
   "metadata": {},
   "outputs": [
    {
     "data": {
      "text/plain": [
       "'ratnaMy name is DeepMy name is Deep'"
      ]
     },
     "execution_count": 44,
     "metadata": {},
     "output_type": "execute_result"
    }
   ],
   "source": [
    "s1.seek(0)\n",
    "s1.read()"
   ]
  },
  {
   "cell_type": "code",
   "execution_count": null,
   "id": "a6b966c3",
   "metadata": {},
   "outputs": [],
   "source": []
  }
 ],
 "metadata": {
  "kernelspec": {
   "display_name": "Python 3",
   "language": "python",
   "name": "python3"
  },
  "language_info": {
   "codemirror_mode": {
    "name": "ipython",
    "version": 3
   },
   "file_extension": ".py",
   "mimetype": "text/x-python",
   "name": "python",
   "nbconvert_exporter": "python",
   "pygments_lexer": "ipython3",
   "version": "3.8.8"
  }
 },
 "nbformat": 4,
 "nbformat_minor": 5
}
