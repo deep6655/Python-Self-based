{
 "cells": [
  {
   "cell_type": "code",
   "execution_count": 2,
   "id": "06440968",
   "metadata": {},
   "outputs": [],
   "source": [
    "#1 Compile time error -  Mostly Syntax error\n",
    "#2 Runtime Error"
   ]
  },
  {
   "cell_type": "code",
   "execution_count": 5,
   "id": "00dbe069",
   "metadata": {},
   "outputs": [
    {
     "name": "stdout",
     "output_type": "stream",
     "text": [
      "0\n"
     ]
    },
    {
     "ename": "ZeroDivisionError",
     "evalue": "division by zero",
     "output_type": "error",
     "traceback": [
      "\u001b[1;31m---------------------------------------------------------------------------\u001b[0m",
      "\u001b[1;31mZeroDivisionError\u001b[0m                         Traceback (most recent call last)",
      "\u001b[1;32m<ipython-input-5-db43f1dda25b>\u001b[0m in \u001b[0;36m<module>\u001b[1;34m\u001b[0m\n\u001b[0;32m      1\u001b[0m \u001b[0ma\u001b[0m \u001b[1;33m=\u001b[0m \u001b[0mint\u001b[0m\u001b[1;33m(\u001b[0m\u001b[0minput\u001b[0m\u001b[1;33m(\u001b[0m\u001b[1;33m)\u001b[0m\u001b[1;33m)\u001b[0m\u001b[1;33m\u001b[0m\u001b[1;33m\u001b[0m\u001b[0m\n\u001b[1;32m----> 2\u001b[1;33m \u001b[1;36m45\u001b[0m\u001b[1;33m/\u001b[0m\u001b[0ma\u001b[0m\u001b[1;33m\u001b[0m\u001b[1;33m\u001b[0m\u001b[0m\n\u001b[0m",
      "\u001b[1;31mZeroDivisionError\u001b[0m: division by zero"
     ]
    }
   ],
   "source": [
    "#runtime error\n",
    "a = int(input())\n",
    "45/a"
   ]
  },
  {
   "cell_type": "code",
   "execution_count": 6,
   "id": "711526d8",
   "metadata": {},
   "outputs": [
    {
     "data": {
      "text/plain": [
       "<_io.TextIOWrapper name='xyz.txt' mode='r' encoding='cp1252'>"
      ]
     },
     "execution_count": 6,
     "metadata": {},
     "output_type": "execute_result"
    }
   ],
   "source": [
    "f = open('xyz.txt') \n",
    "f"
   ]
  },
  {
   "cell_type": "code",
   "execution_count": 9,
   "id": "956b040b",
   "metadata": {},
   "outputs": [
    {
     "name": "stdout",
     "output_type": "stream",
     "text": [
      "Code not working\n"
     ]
    }
   ],
   "source": [
    "try:\n",
    "    f = open('xyz.txt',r)\n",
    "    f.write(\"lklksfs\")\n",
    "    print(\"Code working fine\")\n",
    "except:\n",
    "    print(\"Code not working\")"
   ]
  },
  {
   "cell_type": "code",
   "execution_count": 11,
   "id": "c7bf4aaa",
   "metadata": {},
   "outputs": [
    {
     "ename": "SyntaxError",
     "evalue": "EOL while scanning string literal (<ipython-input-11-c0a171c2308a>, line 3)",
     "output_type": "error",
     "traceback": [
      "\u001b[1;36m  File \u001b[1;32m\"<ipython-input-11-c0a171c2308a>\"\u001b[1;36m, line \u001b[1;32m3\u001b[0m\n\u001b[1;33m    print(\"sdsfsfds)\u001b[0m\n\u001b[1;37m                    ^\u001b[0m\n\u001b[1;31mSyntaxError\u001b[0m\u001b[1;31m:\u001b[0m EOL while scanning string literal\n"
     ]
    }
   ],
   "source": [
    "#syntax error cant be handled\n",
    "try:\n",
    "    print(\"sdsfsfds)\n",
    "except:\n",
    "          print(\"error\")\n",
    "    "
   ]
  },
  {
   "cell_type": "code",
   "execution_count": 15,
   "id": "4b88c8e4",
   "metadata": {},
   "outputs": [
    {
     "name": "stdout",
     "output_type": "stream",
     "text": [
      "0\n",
      "Issue with code\n",
      "Last line\n"
     ]
    }
   ],
   "source": [
    "try:\n",
    "    a = int(input())\n",
    "    print(45/a)\n",
    "except:\n",
    "    print(\"Issue with code\")\n",
    "print(\"Last line\")"
   ]
  },
  {
   "cell_type": "code",
   "execution_count": 17,
   "id": "60093a75",
   "metadata": {},
   "outputs": [
    {
     "name": "stdout",
     "output_type": "stream",
     "text": [
      "0\n",
      "division by zero\n",
      "Last line\n"
     ]
    }
   ],
   "source": [
    "#Exception is super class of all exception\n",
    "try:\n",
    "    a = int(input())\n",
    "    print(45/a)\n",
    "except Exception as e:\n",
    "    print(e)\n",
    "print(\"Last line\")"
   ]
  },
  {
   "cell_type": "code",
   "execution_count": 22,
   "id": "01117640",
   "metadata": {},
   "outputs": [
    {
     "name": "stdout",
     "output_type": "stream",
     "text": [
      "0\n",
      "division by zero\n",
      "Finally block alaways executed\n"
     ]
    }
   ],
   "source": [
    "try:\n",
    "    a = int(input())\n",
    "    print(45/a)\n",
    "except Exception as e:\n",
    "    print(e)\n",
    "else:\n",
    "    print(\"It is executed from try block\")\n",
    "finally:\n",
    "    print(\"Finally block alaways executed\")"
   ]
  },
  {
   "cell_type": "code",
   "execution_count": null,
   "id": "96bae193",
   "metadata": {},
   "outputs": [],
   "source": []
  }
 ],
 "metadata": {
  "kernelspec": {
   "display_name": "Python 3",
   "language": "python",
   "name": "python3"
  },
  "language_info": {
   "codemirror_mode": {
    "name": "ipython",
    "version": 3
   },
   "file_extension": ".py",
   "mimetype": "text/x-python",
   "name": "python",
   "nbconvert_exporter": "python",
   "pygments_lexer": "ipython3",
   "version": "3.8.8"
  }
 },
 "nbformat": 4,
 "nbformat_minor": 5
}
