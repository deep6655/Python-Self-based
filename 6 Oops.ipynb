{
 "cells": [
  {
   "cell_type": "code",
   "execution_count": 1,
   "id": "6804e414",
   "metadata": {},
   "outputs": [],
   "source": [
    "i = 10"
   ]
  },
  {
   "cell_type": "code",
   "execution_count": 2,
   "id": "8545cc52",
   "metadata": {},
   "outputs": [
    {
     "name": "stdout",
     "output_type": "stream",
     "text": [
      "<class 'int'>\n"
     ]
    }
   ],
   "source": [
    "print(type(i))"
   ]
  },
  {
   "cell_type": "code",
   "execution_count": 1,
   "id": "41a59283",
   "metadata": {},
   "outputs": [],
   "source": [
    "class test:\n",
    "    pass"
   ]
  },
  {
   "cell_type": "code",
   "execution_count": 7,
   "id": "01654090",
   "metadata": {},
   "outputs": [],
   "source": [
    "t = test"
   ]
  },
  {
   "cell_type": "code",
   "execution_count": 8,
   "id": "38179fec",
   "metadata": {},
   "outputs": [
    {
     "data": {
      "text/plain": [
       "__main__.test"
      ]
     },
     "execution_count": 8,
     "metadata": {},
     "output_type": "execute_result"
    }
   ],
   "source": [
    "t"
   ]
  },
  {
   "cell_type": "code",
   "execution_count": 9,
   "id": "77b984cd",
   "metadata": {},
   "outputs": [
    {
     "data": {
      "text/plain": [
       "type"
      ]
     },
     "execution_count": 9,
     "metadata": {},
     "output_type": "execute_result"
    }
   ],
   "source": [
    "type(t)"
   ]
  },
  {
   "cell_type": "code",
   "execution_count": 10,
   "id": "bddece1f",
   "metadata": {},
   "outputs": [
    {
     "name": "stdout",
     "output_type": "stream",
     "text": [
      "<class '__main__.test'>\n"
     ]
    }
   ],
   "source": [
    " print(t)"
   ]
  },
  {
   "cell_type": "code",
   "execution_count": 12,
   "id": "5f5583e3",
   "metadata": {},
   "outputs": [],
   "source": [
    "t.name = 'Deep'"
   ]
  },
  {
   "cell_type": "code",
   "execution_count": 13,
   "id": "7ea52fab",
   "metadata": {},
   "outputs": [],
   "source": [
    "p = test"
   ]
  },
  {
   "cell_type": "code",
   "execution_count": 14,
   "id": "23f7d03f",
   "metadata": {},
   "outputs": [],
   "source": [
    "p.name = 'Ratna'"
   ]
  },
  {
   "cell_type": "code",
   "execution_count": 16,
   "id": "59eb1ca6",
   "metadata": {},
   "outputs": [
    {
     "data": {
      "text/plain": [
       "'Ratna'"
      ]
     },
     "execution_count": 16,
     "metadata": {},
     "output_type": "execute_result"
    }
   ],
   "source": [
    "#it is over writing\n",
    "t.name"
   ]
  },
  {
   "cell_type": "code",
   "execution_count": 2,
   "id": "6e5c786f",
   "metadata": {},
   "outputs": [],
   "source": [
    "#init method is used to initialize a value or variable of a class\n",
    "class person:\n",
    "    def __init__(self,name,surname,yob):\n",
    "        self.name = name\n",
    "        self.surname = surname\n",
    "        self.yob = yob"
   ]
  },
  {
   "cell_type": "code",
   "execution_count": 6,
   "id": "6ff6e214",
   "metadata": {},
   "outputs": [
    {
     "ename": "TypeError",
     "evalue": "__init__() missing 3 required positional arguments: 'name', 'surname', and 'yob'",
     "output_type": "error",
     "traceback": [
      "\u001b[1;31m---------------------------------------------------------------------------\u001b[0m",
      "\u001b[1;31mTypeError\u001b[0m                                 Traceback (most recent call last)",
      "\u001b[1;32m<ipython-input-6-23db5f09c429>\u001b[0m in \u001b[0;36m<module>\u001b[1;34m\u001b[0m\n\u001b[0;32m      1\u001b[0m \u001b[1;31m#p is the object of person class\u001b[0m\u001b[1;33m\u001b[0m\u001b[1;33m\u001b[0m\u001b[1;33m\u001b[0m\u001b[0m\n\u001b[1;32m----> 2\u001b[1;33m \u001b[0mp\u001b[0m \u001b[1;33m=\u001b[0m \u001b[0mperson\u001b[0m\u001b[1;33m(\u001b[0m\u001b[1;33m)\u001b[0m\u001b[1;33m\u001b[0m\u001b[1;33m\u001b[0m\u001b[0m\n\u001b[0m\u001b[0;32m      3\u001b[0m \u001b[0mprint\u001b[0m\u001b[1;33m(\u001b[0m\u001b[0mp\u001b[0m\u001b[1;33m)\u001b[0m\u001b[1;33m\u001b[0m\u001b[1;33m\u001b[0m\u001b[0m\n",
      "\u001b[1;31mTypeError\u001b[0m: __init__() missing 3 required positional arguments: 'name', 'surname', and 'yob'"
     ]
    }
   ],
   "source": [
    "#p is the object of person class\n",
    "p = person()\n",
    "print(p)"
   ]
  },
  {
   "cell_type": "code",
   "execution_count": 7,
   "id": "ae780d6f",
   "metadata": {},
   "outputs": [
    {
     "name": "stdout",
     "output_type": "stream",
     "text": [
      "<__main__.person object at 0x000002B89E3C53D0>\n"
     ]
    }
   ],
   "source": [
    "#p is the object of person class\n",
    "p = person(\"Deep\",\"Halder\",'08/12/92')\n",
    "print(p)"
   ]
  },
  {
   "cell_type": "code",
   "execution_count": 8,
   "id": "08c07ff1",
   "metadata": {},
   "outputs": [
    {
     "data": {
      "text/plain": [
       "'Deep'"
      ]
     },
     "execution_count": 8,
     "metadata": {},
     "output_type": "execute_result"
    }
   ],
   "source": [
    "p.name"
   ]
  },
  {
   "cell_type": "code",
   "execution_count": 9,
   "id": "a341de03",
   "metadata": {},
   "outputs": [
    {
     "data": {
      "text/plain": [
       "'Halder'"
      ]
     },
     "execution_count": 9,
     "metadata": {},
     "output_type": "execute_result"
    }
   ],
   "source": [
    "p.surname"
   ]
  },
  {
   "cell_type": "code",
   "execution_count": 12,
   "id": "0dc86e7d",
   "metadata": {},
   "outputs": [],
   "source": [
    "#init method is used to initialize a value or variable of a class\n",
    "class person1:\n",
    "    def __init__(self,name,surname,yob):\n",
    "        self.name1 = name\n",
    "        self.surname1 = surname\n",
    "        self.yob1 = yob"
   ]
  },
  {
   "cell_type": "code",
   "execution_count": 13,
   "id": "3459d2b9",
   "metadata": {},
   "outputs": [
    {
     "name": "stdout",
     "output_type": "stream",
     "text": [
      "<__main__.person1 object at 0x000002B89E3A3400>\n"
     ]
    }
   ],
   "source": [
    "p1 = person1(\"Deep\",\"Halder\",'08/12/92')\n",
    "print(p1)"
   ]
  },
  {
   "cell_type": "code",
   "execution_count": 16,
   "id": "4f6f3e85",
   "metadata": {},
   "outputs": [
    {
     "data": {
      "text/plain": [
       "'Deep'"
      ]
     },
     "execution_count": 16,
     "metadata": {},
     "output_type": "execute_result"
    }
   ],
   "source": [
    "#here name1,surname1,yob1 is the actual variable which will the class remember\n",
    "p1.name1"
   ]
  },
  {
   "cell_type": "code",
   "execution_count": 15,
   "id": "337a5390",
   "metadata": {},
   "outputs": [
    {
     "ename": "AttributeError",
     "evalue": "'person1' object has no attribute 'name'",
     "output_type": "error",
     "traceback": [
      "\u001b[1;31m---------------------------------------------------------------------------\u001b[0m",
      "\u001b[1;31mAttributeError\u001b[0m                            Traceback (most recent call last)",
      "\u001b[1;32m<ipython-input-15-6ad9ba857207>\u001b[0m in \u001b[0;36m<module>\u001b[1;34m\u001b[0m\n\u001b[1;32m----> 1\u001b[1;33m \u001b[0mp1\u001b[0m\u001b[1;33m.\u001b[0m\u001b[0mname\u001b[0m\u001b[1;33m\u001b[0m\u001b[1;33m\u001b[0m\u001b[0m\n\u001b[0m",
      "\u001b[1;31mAttributeError\u001b[0m: 'person1' object has no attribute 'name'"
     ]
    }
   ],
   "source": [
    "p1.name"
   ]
  },
  {
   "cell_type": "code",
   "execution_count": 19,
   "id": "863493b2",
   "metadata": {},
   "outputs": [],
   "source": [
    "#prefer approach is using init method\n",
    "class person:\n",
    "    def __init__(self,name,surname,yob):\n",
    "        self.name = name\n",
    "        self.surname = surname\n",
    "        self.yob = yob\n",
    "    def test(self,m,n):\n",
    "        return m+n+yob\n",
    "        "
   ]
  },
  {
   "cell_type": "code",
   "execution_count": 19,
   "id": "d252b3ee",
   "metadata": {},
   "outputs": [
    {
     "ename": "NameError",
     "evalue": "name 'yob' is not defined",
     "output_type": "error",
     "traceback": [
      "\u001b[1;31m---------------------------------------------------------------------------\u001b[0m",
      "\u001b[1;31mNameError\u001b[0m                                 Traceback (most recent call last)",
      "\u001b[1;32m<ipython-input-19-84ff99814345>\u001b[0m in \u001b[0;36m<module>\u001b[1;34m\u001b[0m\n\u001b[0;32m      1\u001b[0m \u001b[0mp\u001b[0m \u001b[1;33m=\u001b[0m \u001b[0mperson\u001b[0m\u001b[1;33m(\u001b[0m\u001b[1;34m\"Deep\"\u001b[0m\u001b[1;33m,\u001b[0m\u001b[1;34m\"Halder\"\u001b[0m\u001b[1;33m,\u001b[0m\u001b[1;36m56\u001b[0m\u001b[1;33m)\u001b[0m\u001b[1;33m\u001b[0m\u001b[1;33m\u001b[0m\u001b[0m\n\u001b[1;32m----> 2\u001b[1;33m \u001b[0mp\u001b[0m\u001b[1;33m.\u001b[0m\u001b[0mtest\u001b[0m\u001b[1;33m(\u001b[0m\u001b[1;36m5\u001b[0m\u001b[1;33m,\u001b[0m\u001b[1;36m12\u001b[0m\u001b[1;33m)\u001b[0m\u001b[1;33m\u001b[0m\u001b[1;33m\u001b[0m\u001b[0m\n\u001b[0m",
      "\u001b[1;32m<ipython-input-17-a772e5dd2bb7>\u001b[0m in \u001b[0;36mtest\u001b[1;34m(self, m, n)\u001b[0m\n\u001b[0;32m      5\u001b[0m         \u001b[0mself\u001b[0m\u001b[1;33m.\u001b[0m\u001b[0myob\u001b[0m \u001b[1;33m=\u001b[0m \u001b[0myob\u001b[0m\u001b[1;33m\u001b[0m\u001b[1;33m\u001b[0m\u001b[0m\n\u001b[0;32m      6\u001b[0m     \u001b[1;32mdef\u001b[0m \u001b[0mtest\u001b[0m\u001b[1;33m(\u001b[0m\u001b[0mself\u001b[0m\u001b[1;33m,\u001b[0m\u001b[0mm\u001b[0m\u001b[1;33m,\u001b[0m\u001b[0mn\u001b[0m\u001b[1;33m)\u001b[0m\u001b[1;33m:\u001b[0m\u001b[1;33m\u001b[0m\u001b[1;33m\u001b[0m\u001b[0m\n\u001b[1;32m----> 7\u001b[1;33m         \u001b[1;32mreturn\u001b[0m \u001b[0mm\u001b[0m\u001b[1;33m+\u001b[0m\u001b[0mn\u001b[0m\u001b[1;33m+\u001b[0m\u001b[0myob\u001b[0m\u001b[1;33m\u001b[0m\u001b[1;33m\u001b[0m\u001b[0m\n\u001b[0m\u001b[0;32m      8\u001b[0m \u001b[1;33m\u001b[0m\u001b[0m\n",
      "\u001b[1;31mNameError\u001b[0m: name 'yob' is not defined"
     ]
    }
   ],
   "source": [
    "p = person(\"Deep\",\"Halder\",56)\n",
    "p.test(5,12)"
   ]
  },
  {
   "cell_type": "code",
   "execution_count": 20,
   "id": "ff09278b",
   "metadata": {},
   "outputs": [
    {
     "data": {
      "text/plain": [
       "73"
      ]
     },
     "execution_count": 20,
     "metadata": {},
     "output_type": "execute_result"
    }
   ],
   "source": [
    "class person:\n",
    "    def __init__(self,name,surname,yob):\n",
    "        self.name = name\n",
    "        self.surname = surname\n",
    "        self.yob = yob\n",
    "    def test(self,m,n):\n",
    "        return m+n+self.yob\n",
    "p = person(\"Deep\",\"Halder\",56)\n",
    "p.test(5,12)"
   ]
  },
  {
   "cell_type": "code",
   "execution_count": 21,
   "id": "de312aac",
   "metadata": {},
   "outputs": [],
   "source": [
    "class person:\n",
    "    def __init__(self,name,surname,yob):\n",
    "        self.name = name\n",
    "        self.surname = surname\n",
    "        self.yob = yob\n",
    "    def test(self,m,n):\n",
    "        return m+n+self.yob\n",
    "    def __str__(self):\n",
    "        return 1"
   ]
  },
  {
   "cell_type": "code",
   "execution_count": 24,
   "id": "7be25633",
   "metadata": {},
   "outputs": [
    {
     "ename": "TypeError",
     "evalue": "__str__ returned non-string (type int)",
     "output_type": "error",
     "traceback": [
      "\u001b[1;31m---------------------------------------------------------------------------\u001b[0m",
      "\u001b[1;31mTypeError\u001b[0m                                 Traceback (most recent call last)",
      "\u001b[1;32m<ipython-input-24-68562f776772>\u001b[0m in \u001b[0;36m<module>\u001b[1;34m\u001b[0m\n\u001b[0;32m      1\u001b[0m \u001b[0mp\u001b[0m \u001b[1;33m=\u001b[0m \u001b[0mperson\u001b[0m\u001b[1;33m(\u001b[0m\u001b[1;34m\"Deep\"\u001b[0m\u001b[1;33m,\u001b[0m\u001b[1;34m\"Halder\"\u001b[0m\u001b[1;33m,\u001b[0m\u001b[1;36m56\u001b[0m\u001b[1;33m)\u001b[0m\u001b[1;33m\u001b[0m\u001b[1;33m\u001b[0m\u001b[0m\n\u001b[1;32m----> 2\u001b[1;33m \u001b[0mprint\u001b[0m\u001b[1;33m(\u001b[0m\u001b[0mp\u001b[0m\u001b[1;33m)\u001b[0m\u001b[1;33m\u001b[0m\u001b[1;33m\u001b[0m\u001b[0m\n\u001b[0m",
      "\u001b[1;31mTypeError\u001b[0m: __str__ returned non-string (type int)"
     ]
    }
   ],
   "source": [
    "p = person(\"Deep\",\"Halder\",56)\n",
    "print(p)"
   ]
  },
  {
   "cell_type": "code",
   "execution_count": 29,
   "id": "f7cfe42a",
   "metadata": {},
   "outputs": [
    {
     "name": "stdout",
     "output_type": "stream",
     "text": [
      "My name is DeepHalder and dob is 56\n"
     ]
    }
   ],
   "source": [
    "class person:\n",
    "    def __init__(self,name,surname,yob):\n",
    "        self.name = name\n",
    "        self.surname = surname\n",
    "        self.yob = yob\n",
    "    def test(self,m,n):\n",
    "        return m+n+self.yob\n",
    "    def __str__(self):\n",
    "        return \"My name is %s%s and dob is %s\"%(self.name,self.surname,self.yob)\n",
    "p = person(\"Deep\",\"Halder\",56)\n",
    "print(p)"
   ]
  },
  {
   "cell_type": "code",
   "execution_count": 1,
   "id": "0439b943",
   "metadata": {},
   "outputs": [],
   "source": [
    "class new:\n",
    "    pass"
   ]
  },
  {
   "cell_type": "code",
   "execution_count": 2,
   "id": "ecca480f",
   "metadata": {},
   "outputs": [],
   "source": [
    "n = new()\n",
    "n.name = \"Deep\""
   ]
  },
  {
   "cell_type": "code",
   "execution_count": 6,
   "id": "f27e44fc",
   "metadata": {},
   "outputs": [
    {
     "data": {
      "text/plain": [
       "'Deep'"
      ]
     },
     "execution_count": 6,
     "metadata": {},
     "output_type": "execute_result"
    }
   ],
   "source": [
    "n.name"
   ]
  },
  {
   "cell_type": "code",
   "execution_count": 4,
   "id": "9bb009b4",
   "metadata": {},
   "outputs": [],
   "source": [
    "s = new()\n",
    "s.name = \"Ratna\""
   ]
  },
  {
   "cell_type": "code",
   "execution_count": 5,
   "id": "18b9c45c",
   "metadata": {},
   "outputs": [
    {
     "data": {
      "text/plain": [
       "'Ratna'"
      ]
     },
     "execution_count": 5,
     "metadata": {},
     "output_type": "execute_result"
    }
   ],
   "source": [
    "s.name"
   ]
  },
  {
   "cell_type": "code",
   "execution_count": 7,
   "id": "fcede004",
   "metadata": {},
   "outputs": [],
   "source": [
    "class Student:\n",
    "    def pass_name(self,name):\n",
    "        self.name = name\n",
    "        \n",
    "    def pass_surname(self,surname):\n",
    "        self.surname = surname\n",
    "        \n",
    "    def pass_yob(self,yob):\n",
    "        self.yob = yob"
   ]
  },
  {
   "cell_type": "code",
   "execution_count": 11,
   "id": "0ef42b0f",
   "metadata": {},
   "outputs": [],
   "source": [
    "s1 = Student()"
   ]
  },
  {
   "cell_type": "code",
   "execution_count": 12,
   "id": "fb0afeaf",
   "metadata": {},
   "outputs": [
    {
     "ename": "AttributeError",
     "evalue": "'Student' object has no attribute 'name'",
     "output_type": "error",
     "traceback": [
      "\u001b[1;31m---------------------------------------------------------------------------\u001b[0m",
      "\u001b[1;31mAttributeError\u001b[0m                            Traceback (most recent call last)",
      "\u001b[1;32m<ipython-input-12-bfa1764dcbdc>\u001b[0m in \u001b[0;36m<module>\u001b[1;34m\u001b[0m\n\u001b[1;32m----> 1\u001b[1;33m \u001b[0ms1\u001b[0m\u001b[1;33m.\u001b[0m\u001b[0mname\u001b[0m\u001b[1;33m\u001b[0m\u001b[1;33m\u001b[0m\u001b[0m\n\u001b[0m",
      "\u001b[1;31mAttributeError\u001b[0m: 'Student' object has no attribute 'name'"
     ]
    }
   ],
   "source": [
    "s1.name"
   ]
  },
  {
   "cell_type": "code",
   "execution_count": 18,
   "id": "41b13895",
   "metadata": {},
   "outputs": [
    {
     "data": {
      "text/plain": [
       "'Deep'"
      ]
     },
     "execution_count": 18,
     "metadata": {},
     "output_type": "execute_result"
    }
   ],
   "source": [
    "s1.pass_name(\"Deep\")\n",
    "s1.pass_surname(\"Halder\")\n",
    "s1.pass_yob(45)\n",
    "s1.name"
   ]
  },
  {
   "cell_type": "code",
   "execution_count": 16,
   "id": "cce79f8b",
   "metadata": {},
   "outputs": [
    {
     "data": {
      "text/plain": [
       "'Halder'"
      ]
     },
     "execution_count": 16,
     "metadata": {},
     "output_type": "execute_result"
    }
   ],
   "source": [
    "s1.surname"
   ]
  },
  {
   "cell_type": "code",
   "execution_count": 17,
   "id": "eff6255c",
   "metadata": {},
   "outputs": [
    {
     "data": {
      "text/plain": [
       "45"
      ]
     },
     "execution_count": 17,
     "metadata": {},
     "output_type": "execute_result"
    }
   ],
   "source": [
    "s1.yob"
   ]
  },
  {
   "cell_type": "code",
   "execution_count": 21,
   "id": "cc2f4a79",
   "metadata": {},
   "outputs": [
    {
     "data": {
      "text/plain": [
       "'public key word - anyone can access variables or function inside outside or of the \\nclass in subclass or outside package and everywhere'"
      ]
     },
     "execution_count": 21,
     "metadata": {},
     "output_type": "execute_result"
    }
   ],
   "source": [
    "\"\"\"public key word - anyone can access variables or function inside outside or of the \n",
    "class in subclass or outside package and everywhere\"\"\""
   ]
  },
  {
   "cell_type": "code",
   "execution_count": 22,
   "id": "210bcc3d",
   "metadata": {},
   "outputs": [
    {
     "data": {
      "text/plain": [
       "'protected key word - anyone can access variables or function inside outside or of the \\nclass but not outside the package'"
      ]
     },
     "execution_count": 22,
     "metadata": {},
     "output_type": "execute_result"
    }
   ],
   "source": [
    "\"\"\"protected key word - anyone can access variables or function inside outside or of the \n",
    "class but not outside the package\"\"\""
   ]
  },
  {
   "cell_type": "code",
   "execution_count": 23,
   "id": "c86fe025",
   "metadata": {},
   "outputs": [],
   "source": [
    "#private key word - anyone can access variables or function only inside the class "
   ]
  },
  {
   "cell_type": "code",
   "execution_count": 24,
   "id": "d43dfa37",
   "metadata": {},
   "outputs": [],
   "source": [
    "#but there is no concept of these upper 3 keywords in python"
   ]
  },
  {
   "cell_type": "code",
   "execution_count": 28,
   "id": "da8c5f8f",
   "metadata": {},
   "outputs": [
    {
     "name": "stdout",
     "output_type": "stream",
     "text": [
      "My name is DeepHalder and dob is 56\n"
     ]
    }
   ],
   "source": [
    "#no underscore means public\n",
    "#singel underscore means protected by python community\n",
    "#double underscore means private by python community\n",
    "class person:\n",
    "    def __init__(self,name,surname,yob):\n",
    "        self._name = name\n",
    "        self._surname = surname\n",
    "        self._yob = yob\n",
    "    def test(self,m,n):\n",
    "        return m+n+self.yob\n",
    "    def __str__(self):\n",
    "        return \"My name is %s%s and dob is %s\"%(self._name,self._surname,self._yob)\n",
    "p = person(\"Deep\",\"Halder\",56)\n",
    "print(p)"
   ]
  },
  {
   "cell_type": "code",
   "execution_count": 27,
   "id": "49b10f48",
   "metadata": {},
   "outputs": [
    {
     "data": {
      "text/plain": [
       "{'_name': 'Deep', '_surname': 'Halder', '_yob': 56}"
      ]
     },
     "execution_count": 27,
     "metadata": {},
     "output_type": "execute_result"
    }
   ],
   "source": [
    "p.__dict__"
   ]
  },
  {
   "cell_type": "code",
   "execution_count": 29,
   "id": "6685efb5",
   "metadata": {},
   "outputs": [
    {
     "name": "stdout",
     "output_type": "stream",
     "text": [
      "My name is DeepHalder and dob is 56\n"
     ]
    }
   ],
   "source": [
    "class person:\n",
    "    def __init__(self,name,surname,yob):\n",
    "        self.__name = name\n",
    "        self._surname = surname\n",
    "        self._yob = yob\n",
    "    def test(self,m,n):\n",
    "        return m+n+self.yob\n",
    "    def __str__(self):\n",
    "        return \"My name is %s%s and dob is %s\"%(self._name,self._surname,self._yob)\n",
    "p1 = person(\"Deep\",\"Halder\",56)\n",
    "print(p)"
   ]
  },
  {
   "cell_type": "code",
   "execution_count": 30,
   "id": "82b658ab",
   "metadata": {},
   "outputs": [
    {
     "ename": "AttributeError",
     "evalue": "'person' object has no attribute '__name'",
     "output_type": "error",
     "traceback": [
      "\u001b[1;31m---------------------------------------------------------------------------\u001b[0m",
      "\u001b[1;31mAttributeError\u001b[0m                            Traceback (most recent call last)",
      "\u001b[1;32m<ipython-input-30-b357a526aec6>\u001b[0m in \u001b[0;36m<module>\u001b[1;34m\u001b[0m\n\u001b[1;32m----> 1\u001b[1;33m \u001b[0mp1\u001b[0m\u001b[1;33m.\u001b[0m\u001b[0m__name\u001b[0m\u001b[1;33m\u001b[0m\u001b[1;33m\u001b[0m\u001b[0m\n\u001b[0m",
      "\u001b[1;31mAttributeError\u001b[0m: 'person' object has no attribute '__name'"
     ]
    }
   ],
   "source": [
    "p1.__name"
   ]
  },
  {
   "cell_type": "code",
   "execution_count": 31,
   "id": "0156a378",
   "metadata": {},
   "outputs": [
    {
     "data": {
      "text/plain": [
       "'Halder'"
      ]
     },
     "execution_count": 31,
     "metadata": {},
     "output_type": "execute_result"
    }
   ],
   "source": [
    "p1._surname"
   ]
  },
  {
   "cell_type": "code",
   "execution_count": 33,
   "id": "cc9a6867",
   "metadata": {},
   "outputs": [
    {
     "data": {
      "text/plain": [
       "{'_person__name': 'Deep', '_surname': 'Halder', '_yob': 56}"
      ]
     },
     "execution_count": 33,
     "metadata": {},
     "output_type": "execute_result"
    }
   ],
   "source": [
    "#for private variable it stores with class name\n",
    "p1.__dict__"
   ]
  },
  {
   "cell_type": "code",
   "execution_count": 34,
   "id": "2b89b210",
   "metadata": {},
   "outputs": [
    {
     "data": {
      "text/plain": [
       "'Deep'"
      ]
     },
     "execution_count": 34,
     "metadata": {},
     "output_type": "execute_result"
    }
   ],
   "source": [
    "p1._person__name"
   ]
  },
  {
   "cell_type": "code",
   "execution_count": 35,
   "id": "318c969f",
   "metadata": {},
   "outputs": [],
   "source": [
    "#Inheritance"
   ]
  },
  {
   "cell_type": "code",
   "execution_count": 44,
   "id": "dd883546",
   "metadata": {},
   "outputs": [
    {
     "name": "stdout",
     "output_type": "stream",
     "text": [
      "My name is DeepHalder and dob is 56\n"
     ]
    }
   ],
   "source": [
    "class person:\n",
    "    def __init__(self,name,surname,yob):\n",
    "        self._name = name\n",
    "        self._surname = surname\n",
    "        self._yob = yob\n",
    "    def test(self,m,n):\n",
    "        return m+n+self._yob\n",
    "    def __str__(self):\n",
    "        return \"My name is %s%s and dob is %s\"%(self._name,self._surname,self._yob)\n",
    "p1 = person(\"Deep\",\"Halder\",56)\n",
    "print(p)\n",
    "    "
   ]
  },
  {
   "cell_type": "code",
   "execution_count": 45,
   "id": "a7a4967f",
   "metadata": {},
   "outputs": [],
   "source": [
    "class employee(person):\n",
    "    def __init__(self,roll,clg_name, *args):\n",
    "        super(employee,self).__init__(*args)\n",
    "        self.roll = roll\n",
    "        self.clg_name = clg_name\n",
    "emp = employee(8,\"UIT\",'Deep','Halder',58)"
   ]
  },
  {
   "cell_type": "code",
   "execution_count": 46,
   "id": "64c0ea1c",
   "metadata": {},
   "outputs": [
    {
     "data": {
      "text/plain": [
       "'Deep'"
      ]
     },
     "execution_count": 46,
     "metadata": {},
     "output_type": "execute_result"
    }
   ],
   "source": [
    "emp._name"
   ]
  },
  {
   "cell_type": "code",
   "execution_count": 47,
   "id": "ff9984a8",
   "metadata": {},
   "outputs": [
    {
     "data": {
      "text/plain": [
       "71"
      ]
     },
     "execution_count": 47,
     "metadata": {},
     "output_type": "execute_result"
    }
   ],
   "source": [
    "emp.test(5,8)"
   ]
  },
  {
   "cell_type": "code",
   "execution_count": 51,
   "id": "9c2c2f44",
   "metadata": {},
   "outputs": [
    {
     "name": "stdout",
     "output_type": "stream",
     "text": [
      "My name is Ratnadeep\n",
      "My surname is Halder\n",
      "My name is Ratnadeep\n"
     ]
    }
   ],
   "source": [
    "class a:\n",
    "    def test(self):\n",
    "        print('My name is Ratnadeep')\n",
    "class b:\n",
    "    def test(self):\n",
    "        print('My surname is Halder')\n",
    "class c(a,b):\n",
    "    obja = a()\n",
    "    objb = b()\n",
    "    obja.test()\n",
    "    objb.test()\n",
    "objc = c()\n",
    "objc.test()"
   ]
  },
  {
   "cell_type": "code",
   "execution_count": null,
   "id": "efb02c54",
   "metadata": {},
   "outputs": [],
   "source": []
  }
 ],
 "metadata": {
  "kernelspec": {
   "display_name": "Python 3",
   "language": "python",
   "name": "python3"
  },
  "language_info": {
   "codemirror_mode": {
    "name": "ipython",
    "version": 3
   },
   "file_extension": ".py",
   "mimetype": "text/x-python",
   "name": "python",
   "nbconvert_exporter": "python",
   "pygments_lexer": "ipython3",
   "version": "3.8.8"
  }
 },
 "nbformat": 4,
 "nbformat_minor": 5
}
