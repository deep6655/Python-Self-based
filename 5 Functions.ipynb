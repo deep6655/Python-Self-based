{
 "cells": [
  {
   "cell_type": "code",
   "execution_count": 3,
   "id": "8d3e5fa7",
   "metadata": {},
   "outputs": [],
   "source": [
    "#prime no\n",
    "def isprime(num1):\n",
    "    for i in range(2,num1):\n",
    "        if num1 % i == 0:\n",
    "            print(\"Non Prime\")\n",
    "            break\n",
    "    else:\n",
    "        print(\"Prime\")"
   ]
  },
  {
   "cell_type": "code",
   "execution_count": 4,
   "id": "46f64b75",
   "metadata": {},
   "outputs": [
    {
     "name": "stdout",
     "output_type": "stream",
     "text": [
      "Non Prime\n"
     ]
    }
   ],
   "source": [
    "isprime(10)"
   ]
  },
  {
   "cell_type": "code",
   "execution_count": 1,
   "id": "7180e963",
   "metadata": {},
   "outputs": [
    {
     "name": "stdout",
     "output_type": "stream",
     "text": [
      "d\n",
      "e\n",
      "e\n",
      "p\n"
     ]
    }
   ],
   "source": [
    "for i in \"deep\":\n",
    "    print(i)"
   ]
  },
  {
   "cell_type": "code",
   "execution_count": 3,
   "id": "66515890",
   "metadata": {},
   "outputs": [
    {
     "ename": "TypeError",
     "evalue": "'str' object is not an iterator",
     "output_type": "error",
     "traceback": [
      "\u001b[1;31m---------------------------------------------------------------------------\u001b[0m",
      "\u001b[1;31mTypeError\u001b[0m                                 Traceback (most recent call last)",
      "\u001b[1;32m<ipython-input-3-d79f82e56da1>\u001b[0m in \u001b[0;36m<module>\u001b[1;34m\u001b[0m\n\u001b[0;32m      3\u001b[0m some function written to make iterable object to iterator'''\n\u001b[0;32m      4\u001b[0m \u001b[1;33m\u001b[0m\u001b[0m\n\u001b[1;32m----> 5\u001b[1;33m \u001b[0mnext\u001b[0m\u001b[1;33m(\u001b[0m\u001b[1;34m\"deep\"\u001b[0m\u001b[1;33m)\u001b[0m\u001b[1;33m\u001b[0m\u001b[1;33m\u001b[0m\u001b[0m\n\u001b[0m",
      "\u001b[1;31mTypeError\u001b[0m: 'str' object is not an iterator"
     ]
    }
   ],
   "source": [
    "'''string is not an iterator but it is a iterable object.\n",
    "but iterable object can be made iterator,inside for loop\n",
    "some function written to make iterable object to iterator'''\n",
    "\n",
    "next(\"deep\")"
   ]
  },
  {
   "cell_type": "code",
   "execution_count": 5,
   "id": "49681432",
   "metadata": {},
   "outputs": [
    {
     "data": {
      "text/plain": [
       "str_iterator"
      ]
     },
     "execution_count": 5,
     "metadata": {},
     "output_type": "execute_result"
    }
   ],
   "source": [
    "a = iter(\"deep\")\n",
    "type(a)"
   ]
  },
  {
   "cell_type": "code",
   "execution_count": 7,
   "id": "6b727fd8",
   "metadata": {},
   "outputs": [
    {
     "data": {
      "text/plain": [
       "'e'"
      ]
     },
     "execution_count": 7,
     "metadata": {},
     "output_type": "execute_result"
    }
   ],
   "source": [
    "next(a)"
   ]
  },
  {
   "cell_type": "code",
   "execution_count": 13,
   "id": "38272a41",
   "metadata": {},
   "outputs": [
    {
     "ename": "TypeError",
     "evalue": "'int' object is not iterable",
     "output_type": "error",
     "traceback": [
      "\u001b[1;31m---------------------------------------------------------------------------\u001b[0m",
      "\u001b[1;31mTypeError\u001b[0m                                 Traceback (most recent call last)",
      "\u001b[1;32m<ipython-input-13-f2c4ef3f8c18>\u001b[0m in \u001b[0;36m<module>\u001b[1;34m\u001b[0m\n\u001b[1;32m----> 1\u001b[1;33m \u001b[0mb\u001b[0m \u001b[1;33m=\u001b[0m \u001b[0miter\u001b[0m\u001b[1;33m(\u001b[0m\u001b[1;36m45\u001b[0m\u001b[1;33m)\u001b[0m\u001b[1;33m\u001b[0m\u001b[1;33m\u001b[0m\u001b[0m\n\u001b[0m",
      "\u001b[1;31mTypeError\u001b[0m: 'int' object is not iterable"
     ]
    }
   ],
   "source": [
    "#'int' object is not iterable\n",
    "b = iter(45)"
   ]
  },
  {
   "cell_type": "code",
   "execution_count": 14,
   "id": "b85058bf",
   "metadata": {},
   "outputs": [
    {
     "ename": "TypeError",
     "evalue": "'range' object is not an iterator",
     "output_type": "error",
     "traceback": [
      "\u001b[1;31m---------------------------------------------------------------------------\u001b[0m",
      "\u001b[1;31mTypeError\u001b[0m                                 Traceback (most recent call last)",
      "\u001b[1;32m<ipython-input-14-a35518fc9185>\u001b[0m in \u001b[0;36m<module>\u001b[1;34m\u001b[0m\n\u001b[1;32m----> 1\u001b[1;33m \u001b[0mnext\u001b[0m\u001b[1;33m(\u001b[0m\u001b[0mrange\u001b[0m\u001b[1;33m(\u001b[0m\u001b[1;36m10\u001b[0m\u001b[1;33m)\u001b[0m\u001b[1;33m)\u001b[0m\u001b[1;33m\u001b[0m\u001b[1;33m\u001b[0m\u001b[0m\n\u001b[0m",
      "\u001b[1;31mTypeError\u001b[0m: 'range' object is not an iterator"
     ]
    }
   ],
   "source": [
    "next(range(10))"
   ]
  },
  {
   "cell_type": "code",
   "execution_count": 17,
   "id": "f794a853",
   "metadata": {},
   "outputs": [],
   "source": [
    "d =iter(range(10))"
   ]
  },
  {
   "cell_type": "code",
   "execution_count": 15,
   "id": "07972e00",
   "metadata": {},
   "outputs": [
    {
     "name": "stdout",
     "output_type": "stream",
     "text": [
      "0\n",
      "1\n",
      "2\n",
      "3\n",
      "4\n",
      "5\n",
      "6\n",
      "7\n",
      "8\n",
      "9\n"
     ]
    }
   ],
   "source": [
    "for i in d:\n",
    "    print(i)"
   ]
  },
  {
   "cell_type": "code",
   "execution_count": 20,
   "id": "5d682867",
   "metadata": {},
   "outputs": [
    {
     "data": {
      "text/plain": [
       "2"
      ]
     },
     "execution_count": 20,
     "metadata": {},
     "output_type": "execute_result"
    }
   ],
   "source": [
    "next(d)"
   ]
  },
  {
   "cell_type": "code",
   "execution_count": 21,
   "id": "f5d157cb",
   "metadata": {},
   "outputs": [],
   "source": [
    "def gencube(n):\n",
    "    for i in range(n):\n",
    "        print(i**3)"
   ]
  },
  {
   "cell_type": "code",
   "execution_count": 23,
   "id": "9c845c09",
   "metadata": {},
   "outputs": [
    {
     "name": "stdout",
     "output_type": "stream",
     "text": [
      "0\n",
      "1\n",
      "8\n",
      "27\n",
      "64\n"
     ]
    }
   ],
   "source": [
    "gencube(5)"
   ]
  },
  {
   "cell_type": "code",
   "execution_count": 26,
   "id": "f5083e24",
   "metadata": {},
   "outputs": [],
   "source": [
    "#for creating genarator object\n",
    "def gencube(n):\n",
    "    for i in range(n):\n",
    "        yield (i**3)"
   ]
  },
  {
   "cell_type": "code",
   "execution_count": 27,
   "id": "716abefe",
   "metadata": {},
   "outputs": [
    {
     "data": {
      "text/plain": [
       "<generator object gencube at 0x000001CD513927B0>"
      ]
     },
     "execution_count": 27,
     "metadata": {},
     "output_type": "execute_result"
    }
   ],
   "source": [
    "gencube(10)"
   ]
  },
  {
   "cell_type": "code",
   "execution_count": 28,
   "id": "8e787913",
   "metadata": {},
   "outputs": [
    {
     "name": "stdout",
     "output_type": "stream",
     "text": [
      "0\n",
      "1\n",
      "8\n",
      "27\n",
      "64\n",
      "125\n",
      "216\n",
      "343\n",
      "512\n",
      "729\n"
     ]
    }
   ],
   "source": [
    "for i in gencube(10):\n",
    "    print(i)"
   ]
  },
  {
   "cell_type": "code",
   "execution_count": 45,
   "id": "212aa6f2",
   "metadata": {},
   "outputs": [],
   "source": [
    "def fibo(n):\n",
    "    a = 0\n",
    "    b = 1\n",
    "    for i in range(n):\n",
    "        print(a)\n",
    "        #a,b = b,a+b\n",
    "        x = a\n",
    "        a = b\n",
    "        b = x+b"
   ]
  },
  {
   "cell_type": "code",
   "execution_count": 46,
   "id": "89b3bb60",
   "metadata": {},
   "outputs": [
    {
     "name": "stdout",
     "output_type": "stream",
     "text": [
      "0\n",
      "1\n",
      "1\n",
      "2\n",
      "3\n",
      "5\n",
      "8\n",
      "13\n",
      "21\n",
      "34\n"
     ]
    }
   ],
   "source": [
    "fibo(10)"
   ]
  },
  {
   "cell_type": "code",
   "execution_count": 41,
   "id": "e4df6b18",
   "metadata": {},
   "outputs": [],
   "source": [
    "#using genarator\n",
    "def fibo(n):\n",
    "    a = 0\n",
    "    b = 1\n",
    "    for i in range(n):\n",
    "        yield(a)\n",
    "        a,b = b,a+b"
   ]
  },
  {
   "cell_type": "code",
   "execution_count": 42,
   "id": "461ff631",
   "metadata": {},
   "outputs": [
    {
     "data": {
      "text/plain": [
       "<generator object fibo at 0x000001CD51392CF0>"
      ]
     },
     "execution_count": 42,
     "metadata": {},
     "output_type": "execute_result"
    }
   ],
   "source": [
    "fibo(10)"
   ]
  },
  {
   "cell_type": "code",
   "execution_count": 44,
   "id": "625ab3eb",
   "metadata": {},
   "outputs": [
    {
     "name": "stdout",
     "output_type": "stream",
     "text": [
      "0\n",
      "1\n",
      "1\n",
      "2\n",
      "3\n",
      "5\n",
      "8\n",
      "13\n",
      "21\n",
      "34\n"
     ]
    }
   ],
   "source": [
    "for i in fibo(10):\n",
    "    print(i)"
   ]
  },
  {
   "cell_type": "code",
   "execution_count": 24,
   "id": "3126150e",
   "metadata": {},
   "outputs": [],
   "source": [
    "def sqr(n):\n",
    "    return n**2"
   ]
  },
  {
   "cell_type": "code",
   "execution_count": 25,
   "id": "49a2cbc9",
   "metadata": {},
   "outputs": [],
   "source": [
    "l1 = [2,8,4,5,6]\n",
    "l2 = []\n",
    "for i in l1:\n",
    "    l2.append(sqr(i))"
   ]
  },
  {
   "cell_type": "code",
   "execution_count": 26,
   "id": "e8369cba",
   "metadata": {},
   "outputs": [
    {
     "data": {
      "text/plain": [
       "[4, 64, 16, 25, 36]"
      ]
     },
     "execution_count": 26,
     "metadata": {},
     "output_type": "execute_result"
    }
   ],
   "source": [
    "l2"
   ]
  },
  {
   "cell_type": "code",
   "execution_count": 8,
   "id": "60aaec33",
   "metadata": {},
   "outputs": [
    {
     "data": {
      "text/plain": [
       "[4, 64, 16, 25, 36]"
      ]
     },
     "execution_count": 8,
     "metadata": {},
     "output_type": "execute_result"
    }
   ],
   "source": [
    "#in single line(list comprehention)\n",
    "[i**2 for i in l1]"
   ]
  },
  {
   "cell_type": "code",
   "execution_count": 10,
   "id": "428e726d",
   "metadata": {},
   "outputs": [
    {
     "data": {
      "text/plain": [
       "[4, 64, 16, 25, 36]"
      ]
     },
     "execution_count": 10,
     "metadata": {},
     "output_type": "execute_result"
    }
   ],
   "source": [
    "list(map(sqr,l1))"
   ]
  },
  {
   "cell_type": "code",
   "execution_count": 11,
   "id": "732dacb7",
   "metadata": {},
   "outputs": [
    {
     "name": "stdout",
     "output_type": "stream",
     "text": [
      "4\n",
      "64\n",
      "16\n",
      "25\n",
      "36\n"
     ]
    }
   ],
   "source": [
    "#generator object using map\n",
    "for i in (map(sqr,l1)):\n",
    "    print(i)"
   ]
  },
  {
   "cell_type": "code",
   "execution_count": 12,
   "id": "6e14875d",
   "metadata": {},
   "outputs": [
    {
     "data": {
      "text/plain": [
       "[4, 64, 16, 25, 36]"
      ]
     },
     "execution_count": 12,
     "metadata": {},
     "output_type": "execute_result"
    }
   ],
   "source": [
    "#using lamda function\n",
    "list(map(lambda x:x**2,l1))"
   ]
  },
  {
   "cell_type": "code",
   "execution_count": 13,
   "id": "26dae17b",
   "metadata": {},
   "outputs": [],
   "source": [
    "#lamda function store inside a variable\n",
    "v1 = lambda x : x**2"
   ]
  },
  {
   "cell_type": "code",
   "execution_count": 15,
   "id": "81391c00",
   "metadata": {},
   "outputs": [
    {
     "data": {
      "text/plain": [
       "[4, 64, 16, 25, 36]"
      ]
     },
     "execution_count": 15,
     "metadata": {},
     "output_type": "execute_result"
    }
   ],
   "source": [
    "#calling the lamda function variable i  map function\n",
    "list(map(v1,l1))"
   ]
  },
  {
   "cell_type": "code",
   "execution_count": 16,
   "id": "3edb77c0",
   "metadata": {},
   "outputs": [],
   "source": [
    "a = [1,2,3,4,5]\n",
    "b = [5,6,7,8,9]\n",
    "c = [9,9,6,5,2,4,5]"
   ]
  },
  {
   "cell_type": "code",
   "execution_count": 17,
   "id": "e2403044",
   "metadata": {},
   "outputs": [],
   "source": [
    "def summing(x,y,z):\n",
    "    return x+y+z"
   ]
  },
  {
   "cell_type": "code",
   "execution_count": 18,
   "id": "b1738c17",
   "metadata": {},
   "outputs": [
    {
     "data": {
      "text/plain": [
       "[15, 17, 16, 17, 16]"
      ]
     },
     "execution_count": 18,
     "metadata": {},
     "output_type": "execute_result"
    }
   ],
   "source": [
    "list(map(summing,a,b,c))"
   ]
  },
  {
   "cell_type": "code",
   "execution_count": 20,
   "id": "88336a76",
   "metadata": {},
   "outputs": [
    {
     "data": {
      "text/plain": [
       "[15, 17, 16, 17, 16]"
      ]
     },
     "execution_count": 20,
     "metadata": {},
     "output_type": "execute_result"
    }
   ],
   "source": [
    "list(map((lambda x,y,z:x+y+z),a,b,c))"
   ]
  },
  {
   "cell_type": "code",
   "execution_count": 36,
   "id": "53c4409f",
   "metadata": {},
   "outputs": [],
   "source": [
    "#reduce function is used for aggregation\n",
    "from functools import reduce"
   ]
  },
  {
   "cell_type": "code",
   "execution_count": 31,
   "id": "d72a7f79",
   "metadata": {},
   "outputs": [],
   "source": [
    "def sum2(a,b):\n",
    "    return a+b"
   ]
  },
  {
   "cell_type": "code",
   "execution_count": 34,
   "id": "0ed91654",
   "metadata": {},
   "outputs": [
    {
     "data": {
      "text/plain": [
       "22"
      ]
     },
     "execution_count": 34,
     "metadata": {},
     "output_type": "execute_result"
    }
   ],
   "source": [
    "l3 = [2,8,6,6]\n",
    "reduce(sum2,l3)"
   ]
  },
  {
   "cell_type": "code",
   "execution_count": 38,
   "id": "8d896c59",
   "metadata": {},
   "outputs": [
    {
     "data": {
      "text/plain": [
       "38"
      ]
     },
     "execution_count": 38,
     "metadata": {},
     "output_type": "execute_result"
    }
   ],
   "source": [
    "l3 = [2,8,6,6,9,7]\n",
    "reduce(lambda x,y:x+y,l3)"
   ]
  },
  {
   "cell_type": "code",
   "execution_count": 39,
   "id": "f233945e",
   "metadata": {},
   "outputs": [
    {
     "data": {
      "text/plain": [
       "[2, 8, 6, 6]"
      ]
     },
     "execution_count": 39,
     "metadata": {},
     "output_type": "execute_result"
    }
   ],
   "source": [
    "list(filter(lambda x:x%2==0,l3))"
   ]
  },
  {
   "cell_type": "code",
   "execution_count": 40,
   "id": "8886c09c",
   "metadata": {},
   "outputs": [],
   "source": [
    "def even_chk(n):\n",
    "    if n%2 == 0:\n",
    "        return True"
   ]
  },
  {
   "cell_type": "code",
   "execution_count": 41,
   "id": "a8814b74",
   "metadata": {},
   "outputs": [
    {
     "data": {
      "text/plain": [
       "[2, 8, 6, 6]"
      ]
     },
     "execution_count": 41,
     "metadata": {},
     "output_type": "execute_result"
    }
   ],
   "source": [
    "list(filter(even_chk,l3))"
   ]
  },
  {
   "cell_type": "code",
   "execution_count": 42,
   "id": "48a33439",
   "metadata": {},
   "outputs": [
    {
     "data": {
      "text/plain": [
       "[9, 7]"
      ]
     },
     "execution_count": 42,
     "metadata": {},
     "output_type": "execute_result"
    }
   ],
   "source": [
    "list(filter(lambda x:x%2!=0,l3))"
   ]
  },
  {
   "cell_type": "code",
   "execution_count": null,
   "id": "e0d4df21",
   "metadata": {},
   "outputs": [],
   "source": []
  }
 ],
 "metadata": {
  "kernelspec": {
   "display_name": "Python 3",
   "language": "python",
   "name": "python3"
  },
  "language_info": {
   "codemirror_mode": {
    "name": "ipython",
    "version": 3
   },
   "file_extension": ".py",
   "mimetype": "text/x-python",
   "name": "python",
   "nbconvert_exporter": "python",
   "pygments_lexer": "ipython3",
   "version": "3.8.8"
  }
 },
 "nbformat": 4,
 "nbformat_minor": 5
}
