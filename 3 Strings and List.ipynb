{
 "cells": [
  {
   "cell_type": "code",
   "execution_count": 2,
   "id": "0ffe43bd",
   "metadata": {},
   "outputs": [
    {
     "data": {
      "text/plain": [
       "'Deep'"
      ]
     },
     "execution_count": 2,
     "metadata": {},
     "output_type": "execute_result"
    }
   ],
   "source": [
    "s = \"Deep\"\n",
    "s"
   ]
  },
  {
   "cell_type": "code",
   "execution_count": 3,
   "id": "5a29a4bd",
   "metadata": {},
   "outputs": [
    {
     "data": {
      "text/plain": [
       "'Deep1'"
      ]
     },
     "execution_count": 3,
     "metadata": {},
     "output_type": "execute_result"
    }
   ],
   "source": [
    "s + str(1)"
   ]
  },
  {
   "cell_type": "code",
   "execution_count": 4,
   "id": "77d1bfa8",
   "metadata": {},
   "outputs": [
    {
     "data": {
      "text/plain": [
       "'DeepDeepDeepDeepDeep'"
      ]
     },
     "execution_count": 4,
     "metadata": {},
     "output_type": "execute_result"
    }
   ],
   "source": [
    "s*5"
   ]
  },
  {
   "cell_type": "code",
   "execution_count": 5,
   "id": "9b7f9fe5",
   "metadata": {},
   "outputs": [
    {
     "data": {
      "text/plain": [
       "[1, 2, 3, 'Deep', 1, 2, 3, 'Deep', 1, 2, 3, 'Deep']"
      ]
     },
     "execution_count": 5,
     "metadata": {},
     "output_type": "execute_result"
    }
   ],
   "source": [
    "[1,2,3,\"Deep\"]*3"
   ]
  },
  {
   "cell_type": "code",
   "execution_count": 6,
   "id": "cdcac1f4",
   "metadata": {},
   "outputs": [
    {
     "data": {
      "text/plain": [
       "'DEEP'"
      ]
     },
     "execution_count": 6,
     "metadata": {},
     "output_type": "execute_result"
    }
   ],
   "source": [
    "s.upper()"
   ]
  },
  {
   "cell_type": "code",
   "execution_count": 7,
   "id": "4ad4665a",
   "metadata": {},
   "outputs": [
    {
     "data": {
      "text/plain": [
       "'deep'"
      ]
     },
     "execution_count": 7,
     "metadata": {},
     "output_type": "execute_result"
    }
   ],
   "source": [
    "a = \"DeeP\"\n",
    "a.lower()"
   ]
  },
  {
   "cell_type": "code",
   "execution_count": 9,
   "id": "a8859b2e",
   "metadata": {},
   "outputs": [
    {
     "data": {
      "text/plain": [
       "['My', 'name', 'is', 'Deep']"
      ]
     },
     "execution_count": 9,
     "metadata": {},
     "output_type": "execute_result"
    }
   ],
   "source": [
    "s1 = \"My name is Deep\"\n",
    "s1.split()"
   ]
  },
  {
   "cell_type": "code",
   "execution_count": 7,
   "id": "ef575b46",
   "metadata": {},
   "outputs": [
    {
     "data": {
      "text/plain": [
       "list"
      ]
     },
     "execution_count": 7,
     "metadata": {},
     "output_type": "execute_result"
    }
   ],
   "source": [
    "s2 = \"My@name@is@ Deep\"\n",
    "s2.split('@')\n",
    "type(s2.split('@'))"
   ]
  },
  {
   "cell_type": "code",
   "execution_count": 9,
   "id": "d654b1b4",
   "metadata": {},
   "outputs": [
    {
     "data": {
      "text/plain": [
       "tuple"
      ]
     },
     "execution_count": 9,
     "metadata": {},
     "output_type": "execute_result"
    }
   ],
   "source": [
    "s2.partition('@')\n",
    "type(s2.partition('@'))"
   ]
  },
  {
   "cell_type": "code",
   "execution_count": 12,
   "id": "5d303984",
   "metadata": {},
   "outputs": [
    {
     "name": "stdout",
     "output_type": "stream",
     "text": [
      "3\n",
      "-1\n"
     ]
    }
   ],
   "source": [
    "s3 = \"fghsdfsghgss\"\n",
    "print(s3.find('s'))\n",
    "print(s3.find('z'))"
   ]
  },
  {
   "cell_type": "code",
   "execution_count": 8,
   "id": "26326769",
   "metadata": {},
   "outputs": [
    {
     "name": "stdout",
     "output_type": "stream",
     "text": [
      "RRRDeePRR\n",
      "RRRDeePRRR\n"
     ]
    }
   ],
   "source": [
    "s4 = \"DeeP\"\n",
    "print(s4.center(9,'R'))\n",
    "print(s4.center(10,'R'))"
   ]
  },
  {
   "cell_type": "code",
   "execution_count": 11,
   "id": "3845b0d1",
   "metadata": {},
   "outputs": [
    {
     "data": {
      "text/plain": [
       "['Ratna', 'deep']"
      ]
     },
     "execution_count": 11,
     "metadata": {},
     "output_type": "execute_result"
    }
   ],
   "source": [
    "'Ratna\\tdeep'.split('\\t')"
   ]
  },
  {
   "cell_type": "code",
   "execution_count": 12,
   "id": "2827f667",
   "metadata": {},
   "outputs": [
    {
     "data": {
      "text/plain": [
       "'Ratna   deep'"
      ]
     },
     "execution_count": 12,
     "metadata": {},
     "output_type": "execute_result"
    }
   ],
   "source": [
    "'Ratna\\tdeep'.expandtabs()"
   ]
  },
  {
   "cell_type": "code",
   "execution_count": 14,
   "id": "40d49bfc",
   "metadata": {},
   "outputs": [
    {
     "name": "stdout",
     "output_type": "stream",
     "text": [
      "deep\n",
      "My name is deep\n"
     ]
    }
   ],
   "source": [
    "name =input()\n",
    "print(\"My name is {}\".format(name))"
   ]
  },
  {
   "cell_type": "code",
   "execution_count": 13,
   "id": "c41eadea",
   "metadata": {},
   "outputs": [
    {
     "name": "stdout",
     "output_type": "stream",
     "text": [
      "Give me 1st nameratna\n",
      "Give me last namedeep\n",
      "My name is ratna deep\n"
     ]
    }
   ],
   "source": [
    "name1 =input(\"Give me 1st name\")\n",
    "name2 =input(\"Give me last name\")\n",
    "print(\"My name is {} {}\".format(name1,name2))"
   ]
  },
  {
   "cell_type": "code",
   "execution_count": 20,
   "id": "135e490b",
   "metadata": {},
   "outputs": [
    {
     "data": {
      "text/plain": [
       "True"
      ]
     },
     "execution_count": 20,
     "metadata": {},
     "output_type": "execute_result"
    }
   ],
   "source": [
    "chk = \"45iyaA\"\n",
    "chk.isalnum()"
   ]
  },
  {
   "cell_type": "code",
   "execution_count": 18,
   "id": "192ddd20",
   "metadata": {},
   "outputs": [
    {
     "data": {
      "text/plain": [
       "False"
      ]
     },
     "execution_count": 18,
     "metadata": {},
     "output_type": "execute_result"
    }
   ],
   "source": [
    "chk.isalpha()"
   ]
  },
  {
   "cell_type": "code",
   "execution_count": 21,
   "id": "b71b1d88",
   "metadata": {},
   "outputs": [
    {
     "data": {
      "text/plain": [
       "False"
      ]
     },
     "execution_count": 21,
     "metadata": {},
     "output_type": "execute_result"
    }
   ],
   "source": [
    "chk.islower()"
   ]
  },
  {
   "cell_type": "code",
   "execution_count": 22,
   "id": "9359c49d",
   "metadata": {},
   "outputs": [
    {
     "data": {
      "text/plain": [
       "True"
      ]
     },
     "execution_count": 22,
     "metadata": {},
     "output_type": "execute_result"
    }
   ],
   "source": [
    "chk1 = \"ASSNJSN\"\n",
    "chk1.isupper()"
   ]
  },
  {
   "cell_type": "code",
   "execution_count": 23,
   "id": "04b2bc5c",
   "metadata": {},
   "outputs": [
    {
     "data": {
      "text/plain": [
       "False"
      ]
     },
     "execution_count": 23,
     "metadata": {},
     "output_type": "execute_result"
    }
   ],
   "source": [
    "chk1.istitle()"
   ]
  },
  {
   "cell_type": "code",
   "execution_count": 17,
   "id": "c04a5f23",
   "metadata": {},
   "outputs": [
    {
     "data": {
      "text/plain": [
       "True"
      ]
     },
     "execution_count": 17,
     "metadata": {},
     "output_type": "execute_result"
    }
   ],
   "source": [
    "chk2 = \"Ujhj Rghgh\"\n",
    "chk2.istitle()"
   ]
  },
  {
   "cell_type": "code",
   "execution_count": 26,
   "id": "4a1dc7e6",
   "metadata": {},
   "outputs": [
    {
     "data": {
      "text/plain": [
       "True"
      ]
     },
     "execution_count": 26,
     "metadata": {},
     "output_type": "execute_result"
    }
   ],
   "source": [
    "chk2.endswith('h')"
   ]
  },
  {
   "cell_type": "code",
   "execution_count": 27,
   "id": "31a90ff0",
   "metadata": {},
   "outputs": [
    {
     "data": {
      "text/plain": [
       "5"
      ]
     },
     "execution_count": 27,
     "metadata": {},
     "output_type": "execute_result"
    }
   ],
   "source": [
    "len(chk2)"
   ]
  },
  {
   "cell_type": "code",
   "execution_count": 32,
   "id": "32ca0b7f",
   "metadata": {},
   "outputs": [
    {
     "data": {
      "text/plain": [
       "[1, 2, 3, 4, 'Deep', 2.6, [5, 6, 'ratna']]"
      ]
     },
     "execution_count": 32,
     "metadata": {},
     "output_type": "execute_result"
    }
   ],
   "source": [
    "l1 = [1,2,3,4,'Deep',2.6,[5,6,'ratna']]\n",
    "l2 = [10,20,35,48,'Deep',2.6,[5,6,'ratna']]\n",
    "l3 = []\n",
    "for i in l1:\n",
    "    l3.append(i)\n",
    "l3"
   ]
  },
  {
   "cell_type": "code",
   "execution_count": 33,
   "id": "21b5e6f0",
   "metadata": {},
   "outputs": [
    {
     "data": {
      "text/plain": [
       "[1,\n",
       " 2,\n",
       " 3,\n",
       " 4,\n",
       " 'Deep',\n",
       " 2.6,\n",
       " [5, 6, 'ratna'],\n",
       " 10,\n",
       " 20,\n",
       " 35,\n",
       " 48,\n",
       " 'Deep',\n",
       " 2.6,\n",
       " [5, 6, 'ratna']]"
      ]
     },
     "execution_count": 33,
     "metadata": {},
     "output_type": "execute_result"
    }
   ],
   "source": [
    "l1+l2"
   ]
  },
  {
   "cell_type": "code",
   "execution_count": 34,
   "id": "1576cd65",
   "metadata": {},
   "outputs": [
    {
     "data": {
      "text/plain": [
       "[1,\n",
       " 2,\n",
       " 3,\n",
       " 4,\n",
       " 'Deep',\n",
       " 2.6,\n",
       " [5, 6, 'ratna'],\n",
       " 10,\n",
       " 20,\n",
       " 35,\n",
       " 48,\n",
       " 'Deep',\n",
       " 2.6,\n",
       " [5, 6, 'ratna'],\n",
       " 10,\n",
       " 20,\n",
       " 35,\n",
       " 48,\n",
       " 'Deep',\n",
       " 2.6,\n",
       " [5, 6, 'ratna'],\n",
       " 10,\n",
       " 20,\n",
       " 35,\n",
       " 48,\n",
       " 'Deep',\n",
       " 2.6,\n",
       " [5, 6, 'ratna']]"
      ]
     },
     "execution_count": 34,
     "metadata": {},
     "output_type": "execute_result"
    }
   ],
   "source": [
    "l1+l2*3"
   ]
  },
  {
   "cell_type": "code",
   "execution_count": 40,
   "id": "dfc330b0",
   "metadata": {},
   "outputs": [
    {
     "data": {
      "text/plain": [
       "[1,\n",
       " 2,\n",
       " 3,\n",
       " 4,\n",
       " 'Deep',\n",
       " 2.6,\n",
       " [5, 6, 'ratna'],\n",
       " 'halder',\n",
       " 'halder',\n",
       " 'q',\n",
       " 'w',\n",
       " 'e',\n",
       " 'r',\n",
       " 't',\n",
       " 'y']"
      ]
     },
     "execution_count": 40,
     "metadata": {},
     "output_type": "execute_result"
    }
   ],
   "source": [
    "l1+list(\"qwerty\")"
   ]
  },
  {
   "cell_type": "code",
   "execution_count": 36,
   "id": "89caef12",
   "metadata": {},
   "outputs": [
    {
     "data": {
      "text/plain": [
       "['q', 'w', 'e', 'r', 't', 'y']"
      ]
     },
     "execution_count": 36,
     "metadata": {},
     "output_type": "execute_result"
    }
   ],
   "source": [
    "list(\"qwerty\")"
   ]
  },
  {
   "cell_type": "code",
   "execution_count": 42,
   "id": "b269d981",
   "metadata": {},
   "outputs": [
    {
     "data": {
      "text/plain": [
       "[1,\n",
       " 2,\n",
       " 3,\n",
       " 4,\n",
       " 'Deep',\n",
       " 2.6,\n",
       " [5, 6, 'ratna'],\n",
       " 'halder',\n",
       " 'halder',\n",
       " 'halder',\n",
       " 'halder']"
      ]
     },
     "execution_count": 42,
     "metadata": {},
     "output_type": "execute_result"
    }
   ],
   "source": [
    "l1.append(\"halder\")\n",
    "l1"
   ]
  },
  {
   "cell_type": "code",
   "execution_count": 46,
   "id": "2b8084dd",
   "metadata": {},
   "outputs": [
    {
     "data": {
      "text/plain": [
       "[1,\n",
       " 2,\n",
       " 3,\n",
       " 4,\n",
       " 'ktm',\n",
       " 1,\n",
       " 1,\n",
       " 'Deep',\n",
       " 2.6,\n",
       " [5, 6, 'ratna'],\n",
       " 'halder',\n",
       " 'halder',\n",
       " 'halder',\n",
       " 'ktm',\n",
       " 'halder']"
      ]
     },
     "execution_count": 46,
     "metadata": {},
     "output_type": "execute_result"
    }
   ],
   "source": [
    "l1.insert(-1,'ktm')\n",
    "l1"
   ]
  },
  {
   "cell_type": "code",
   "execution_count": 47,
   "id": "8012a71b",
   "metadata": {},
   "outputs": [
    {
     "data": {
      "text/plain": [
       "[1,\n",
       " 2,\n",
       " 3,\n",
       " 4,\n",
       " 'ktm',\n",
       " 1,\n",
       " 1,\n",
       " 'Deep',\n",
       " 2.6,\n",
       " [5, 6, 'ratna'],\n",
       " 'halder',\n",
       " 'halder',\n",
       " 'halder',\n",
       " [6, 7, 8, 'asdf'],\n",
       " 'ktm',\n",
       " 'halder']"
      ]
     },
     "execution_count": 47,
     "metadata": {},
     "output_type": "execute_result"
    }
   ],
   "source": [
    "l1.insert(-2,[6,7,8,\"asdf\"])\n",
    "l1"
   ]
  },
  {
   "cell_type": "code",
   "execution_count": 50,
   "id": "513b0ef1",
   "metadata": {},
   "outputs": [
    {
     "data": {
      "text/plain": [
       "'ktm'"
      ]
     },
     "execution_count": 50,
     "metadata": {},
     "output_type": "execute_result"
    }
   ],
   "source": [
    "#remove from list\n",
    "l1.pop()"
   ]
  },
  {
   "cell_type": "code",
   "execution_count": 51,
   "id": "35d51915",
   "metadata": {},
   "outputs": [
    {
     "data": {
      "text/plain": [
       "[1,\n",
       " 2,\n",
       " 3,\n",
       " 4,\n",
       " 'ktm',\n",
       " 1,\n",
       " 1,\n",
       " 'Deep',\n",
       " 2.6,\n",
       " [5, 6, 'ratna'],\n",
       " 'halder',\n",
       " 'halder',\n",
       " 'halder',\n",
       " [6, 7, 8, 'asdf']]"
      ]
     },
     "execution_count": 51,
     "metadata": {},
     "output_type": "execute_result"
    }
   ],
   "source": [
    "l1"
   ]
  },
  {
   "cell_type": "code",
   "execution_count": 54,
   "id": "c4a1f144",
   "metadata": {},
   "outputs": [
    {
     "data": {
      "text/plain": [
       "'ktm'"
      ]
     },
     "execution_count": 54,
     "metadata": {},
     "output_type": "execute_result"
    }
   ],
   "source": [
    "l1.pop(4)"
   ]
  },
  {
   "cell_type": "code",
   "execution_count": 55,
   "id": "6b4d2407",
   "metadata": {},
   "outputs": [
    {
     "data": {
      "text/plain": [
       "[1,\n",
       " 2,\n",
       " 3,\n",
       " 4,\n",
       " 'Deep',\n",
       " 2.6,\n",
       " [5, 6, 'ratna'],\n",
       " 'halder',\n",
       " 'halder',\n",
       " 'halder',\n",
       " [6, 7, 8, 'asdf']]"
      ]
     },
     "execution_count": 55,
     "metadata": {},
     "output_type": "execute_result"
    }
   ],
   "source": [
    "l1"
   ]
  },
  {
   "cell_type": "code",
   "execution_count": 57,
   "id": "68a33e19",
   "metadata": {},
   "outputs": [
    {
     "data": {
      "text/plain": [
       "[[6, 7, 8, 'asdf'],\n",
       " 'halder',\n",
       " 'halder',\n",
       " 'halder',\n",
       " [5, 6, 'ratna'],\n",
       " 2.6,\n",
       " 'Deep',\n",
       " 4,\n",
       " 3,\n",
       " 2,\n",
       " 1]"
      ]
     },
     "execution_count": 57,
     "metadata": {},
     "output_type": "execute_result"
    }
   ],
   "source": [
    "l1[::-1]"
   ]
  },
  {
   "cell_type": "code",
   "execution_count": 59,
   "id": "dd802d1b",
   "metadata": {},
   "outputs": [
    {
     "data": {
      "text/plain": [
       "[1,\n",
       " 2,\n",
       " 3,\n",
       " 4,\n",
       " 'Deep',\n",
       " 2.6,\n",
       " [5, 6, 'ratna'],\n",
       " 'halder',\n",
       " 'halder',\n",
       " 'halder',\n",
       " [6, 7, 8, 'asdf']]"
      ]
     },
     "execution_count": 59,
     "metadata": {},
     "output_type": "execute_result"
    }
   ],
   "source": [
    "#permanent reverse\n",
    "l1.reverse()\n",
    "l1"
   ]
  },
  {
   "cell_type": "code",
   "execution_count": 61,
   "id": "52911029",
   "metadata": {},
   "outputs": [
    {
     "data": {
      "text/plain": [
       "[3, 3, 5, 9, 12, 76]"
      ]
     },
     "execution_count": 61,
     "metadata": {},
     "output_type": "execute_result"
    }
   ],
   "source": [
    "l4 = [5,3,9,12,76,3]\n",
    "l4.sort()\n",
    "l4"
   ]
  },
  {
   "cell_type": "code",
   "execution_count": 63,
   "id": "904c898a",
   "metadata": {},
   "outputs": [
    {
     "data": {
      "text/plain": [
       "[76, 12, 9, 5, 3, 3]"
      ]
     },
     "execution_count": 63,
     "metadata": {},
     "output_type": "execute_result"
    }
   ],
   "source": [
    "l4.sort(reverse=True)\n",
    "l4"
   ]
  },
  {
   "cell_type": "code",
   "execution_count": 108,
   "id": "a8967e40",
   "metadata": {},
   "outputs": [
    {
     "data": {
      "text/plain": [
       "[[1, 2, 3, 4, 56], [6, 8, 9, 0, 1, 2], [5, 8, 8, 87, 5]]"
      ]
     },
     "execution_count": 108,
     "metadata": {},
     "output_type": "execute_result"
    }
   ],
   "source": [
    "a = [1,2,3,4,56]\n",
    "b = [6,8,9,0,1,2]\n",
    "c = [5,8,8,87,5]\n",
    "d = [a,b,c]\n",
    "d"
   ]
  },
  {
   "cell_type": "code",
   "execution_count": 72,
   "id": "6fffa0e6",
   "metadata": {},
   "outputs": [
    {
     "data": {
      "text/plain": [
       "[8, 8, 87]"
      ]
     },
     "execution_count": 72,
     "metadata": {},
     "output_type": "execute_result"
    }
   ],
   "source": [
    "[a,b,c][2][1:4]"
   ]
  },
  {
   "cell_type": "code",
   "execution_count": 107,
   "id": "04e0a907",
   "metadata": {},
   "outputs": [
    {
     "name": "stdout",
     "output_type": "stream",
     "text": [
      "[[5, 8, 8, 87, 5], [6, 8, 9, 0, 1, 2], [1, 2, 3, 4, 56]]\n"
     ]
    },
    {
     "data": {
      "text/plain": [
       "[[5, 87, 8, 8, 5], [2, 1, 0, 9, 8, 6], [56, 4, 3, 2, 1]]"
      ]
     },
     "execution_count": 107,
     "metadata": {},
     "output_type": "execute_result"
    }
   ],
   "source": [
    "e = []\n",
    "d = d[::-1]\n",
    "print(d)\n",
    "for i in d:\n",
    "        e.append(i[::-1])\n",
    "e"
   ]
  },
  {
   "cell_type": "code",
   "execution_count": 112,
   "id": "67d0e79a",
   "metadata": {},
   "outputs": [
    {
     "data": {
      "text/plain": [
       "[87, 1, 4]"
      ]
     },
     "execution_count": 112,
     "metadata": {},
     "output_type": "execute_result"
    }
   ],
   "source": [
    "m = []\n",
    "for i in e:\n",
    "    m.append(i[1])\n",
    "m"
   ]
  },
  {
   "cell_type": "code",
   "execution_count": 109,
   "id": "0eda52ca",
   "metadata": {},
   "outputs": [
    {
     "data": {
      "text/plain": [
       "[[5, 8, 8, 87, 5], [6, 8, 9, 0, 1, 2], [1, 2, 3, 4, 56]]"
      ]
     },
     "execution_count": 109,
     "metadata": {},
     "output_type": "execute_result"
    }
   ],
   "source": [
    "[i[::-1] for i in e]"
   ]
  },
  {
   "cell_type": "code",
   "execution_count": 118,
   "id": "010378a3",
   "metadata": {},
   "outputs": [
    {
     "name": "stdout",
     "output_type": "stream",
     "text": [
      "[[5, 87, 8, 8, 5], [2, 1, 0, 9, 8, 6], [56, 4, 3, 2, 1]]\n"
     ]
    },
    {
     "data": {
      "text/plain": [
       "[174, 2, 8]"
      ]
     },
     "execution_count": 118,
     "metadata": {},
     "output_type": "execute_result"
    }
   ],
   "source": [
    "print(e)\n",
    "[i[1]*2 for i in e]"
   ]
  },
  {
   "cell_type": "code",
   "execution_count": 120,
   "id": "b4d600c3",
   "metadata": {},
   "outputs": [
    {
     "data": {
      "text/plain": [
       "[1, 2, 3, 'Deep', [5, 6, 7, 8]]"
      ]
     },
     "execution_count": 120,
     "metadata": {},
     "output_type": "execute_result"
    }
   ],
   "source": [
    "x = [1,2,3,'Deep']\n",
    "x.append([5,6,7,8])\n",
    "x"
   ]
  },
  {
   "cell_type": "code",
   "execution_count": 121,
   "id": "4d43ea4c",
   "metadata": {},
   "outputs": [
    {
     "data": {
      "text/plain": [
       "[1, 2, 3, 'Deep', [5, 6, 7, 8], 'ghgjk', 5, 8, 3]"
      ]
     },
     "execution_count": 121,
     "metadata": {},
     "output_type": "execute_result"
    }
   ],
   "source": [
    "x.extend(['ghgjk',5,8,3])\n",
    "x"
   ]
  },
  {
   "cell_type": "code",
   "execution_count": 124,
   "id": "5ff93dd5",
   "metadata": {},
   "outputs": [
    {
     "data": {
      "text/plain": [
       "[1,\n",
       " 2,\n",
       " 3,\n",
       " 'Deep',\n",
       " [5, 6, 7, 8],\n",
       " 'ghgjk',\n",
       " 5,\n",
       " 8,\n",
       " 3,\n",
       " 8,\n",
       " 9,\n",
       " 5,\n",
       " 6,\n",
       " ['jhjh', 5, 8, 3]]"
      ]
     },
     "execution_count": 124,
     "metadata": {},
     "output_type": "execute_result"
    }
   ],
   "source": [
    "x.extend([8,9,5,6,['jhjh',5,8,3]])\n",
    "x"
   ]
  },
  {
   "cell_type": "code",
   "execution_count": 128,
   "id": "42dcc463",
   "metadata": {},
   "outputs": [
    {
     "data": {
      "text/plain": [
       "2"
      ]
     },
     "execution_count": 128,
     "metadata": {},
     "output_type": "execute_result"
    }
   ],
   "source": [
    "x.index(3)"
   ]
  },
  {
   "cell_type": "code",
   "execution_count": 126,
   "id": "897a1e57",
   "metadata": {},
   "outputs": [
    {
     "data": {
      "text/plain": [
       "4"
      ]
     },
     "execution_count": 126,
     "metadata": {},
     "output_type": "execute_result"
    }
   ],
   "source": [
    "x.index([5, 6, 7, 8])"
   ]
  },
  {
   "cell_type": "code",
   "execution_count": null,
   "id": "4dd8ae72",
   "metadata": {},
   "outputs": [],
   "source": []
  }
 ],
 "metadata": {
  "kernelspec": {
   "display_name": "Python 3",
   "language": "python",
   "name": "python3"
  },
  "language_info": {
   "codemirror_mode": {
    "name": "ipython",
    "version": 3
   },
   "file_extension": ".py",
   "mimetype": "text/x-python",
   "name": "python",
   "nbconvert_exporter": "python",
   "pygments_lexer": "ipython3",
   "version": "3.8.8"
  }
 },
 "nbformat": 4,
 "nbformat_minor": 5
}
