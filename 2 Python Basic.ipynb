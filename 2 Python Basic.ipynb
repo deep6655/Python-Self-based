{
 "cells": [
  {
   "cell_type": "code",
   "execution_count": 1,
   "id": "48173f92",
   "metadata": {},
   "outputs": [
    {
     "data": {
      "text/plain": [
       "range(0, 10)"
      ]
     },
     "execution_count": 1,
     "metadata": {},
     "output_type": "execute_result"
    }
   ],
   "source": [
    "range(10)"
   ]
  },
  {
   "cell_type": "code",
   "execution_count": 2,
   "id": "53c738cf",
   "metadata": {},
   "outputs": [
    {
     "data": {
      "text/plain": [
       "[0, 1, 2, 3, 4, 5, 6, 7, 8, 9]"
      ]
     },
     "execution_count": 2,
     "metadata": {},
     "output_type": "execute_result"
    }
   ],
   "source": [
    "list(range(10))"
   ]
  },
  {
   "cell_type": "code",
   "execution_count": 3,
   "id": "f1a594e7",
   "metadata": {},
   "outputs": [
    {
     "data": {
      "text/plain": [
       "[3, 4, 5, 6, 7, 8, 9]"
      ]
     },
     "execution_count": 3,
     "metadata": {},
     "output_type": "execute_result"
    }
   ],
   "source": [
    "list(range(3,10))"
   ]
  },
  {
   "cell_type": "code",
   "execution_count": 4,
   "id": "4aa69bfb",
   "metadata": {},
   "outputs": [
    {
     "data": {
      "text/plain": [
       "[10, 9, 8, 7, 6, 5, 4]"
      ]
     },
     "execution_count": 4,
     "metadata": {},
     "output_type": "execute_result"
    }
   ],
   "source": [
    "list(range(10,3,-1))"
   ]
  },
  {
   "cell_type": "code",
   "execution_count": 5,
   "id": "ead0ebf0",
   "metadata": {},
   "outputs": [
    {
     "ename": "TypeError",
     "evalue": "'float' object cannot be interpreted as an integer",
     "output_type": "error",
     "traceback": [
      "\u001b[1;31m---------------------------------------------------------------------------\u001b[0m",
      "\u001b[1;31mTypeError\u001b[0m                                 Traceback (most recent call last)",
      "\u001b[1;32m<ipython-input-5-a9346ca76469>\u001b[0m in \u001b[0;36m<module>\u001b[1;34m\u001b[0m\n\u001b[1;32m----> 1\u001b[1;33m \u001b[0mlist\u001b[0m\u001b[1;33m(\u001b[0m\u001b[0mrange\u001b[0m\u001b[1;33m(\u001b[0m\u001b[1;36m10\u001b[0m\u001b[1;33m,\u001b[0m\u001b[1;36m3.5\u001b[0m\u001b[1;33m,\u001b[0m\u001b[1;33m-\u001b[0m\u001b[1;36m1\u001b[0m\u001b[1;33m)\u001b[0m\u001b[1;33m)\u001b[0m\u001b[1;33m\u001b[0m\u001b[1;33m\u001b[0m\u001b[0m\n\u001b[0m",
      "\u001b[1;31mTypeError\u001b[0m: 'float' object cannot be interpreted as an integer"
     ]
    }
   ],
   "source": [
    "list(range(10,3.5,-1))"
   ]
  },
  {
   "cell_type": "code",
   "execution_count": 20,
   "id": "6a301dc0",
   "metadata": {},
   "outputs": [
    {
     "name": "stdout",
     "output_type": "stream",
     "text": [
      "3\n",
      "4\n",
      "5\n",
      "7\n",
      "8\n",
      "22\n",
      "42\n",
      "[3, 4, 5, 7, 8, 22, 42]\n"
     ]
    }
   ],
   "source": [
    "l = [1,2,3,5,6,20,40]\n",
    "m = []\n",
    "#i = 0\n",
    "for i in l:\n",
    "    i=i+2\n",
    "    print(i)\n",
    "    m.append(i)\n",
    "print(m)"
   ]
  },
  {
   "cell_type": "code",
   "execution_count": 33,
   "id": "47d0ad0d",
   "metadata": {},
   "outputs": [
    {
     "name": "stdout",
     "output_type": "stream",
     "text": [
      "1\n",
      "2\n",
      "3\n",
      "5\n",
      "6\n",
      "20\n",
      "40\n",
      "[30, 50]\n"
     ]
    }
   ],
   "source": [
    "l = [1,2,3,5,6,20,40]\n",
    "m = []\n",
    "#i = 0\n",
    "for i in range(len(l)):\n",
    "    #i=i+2\n",
    "    print(l[i])\n",
    "    if l[i]>10:\n",
    "        l[i] = l[i]+10\n",
    "        m.append(l[i])\n",
    "print(m)"
   ]
  },
  {
   "cell_type": "code",
   "execution_count": 44,
   "id": "be8e81a8",
   "metadata": {},
   "outputs": [
    {
     "name": "stdout",
     "output_type": "stream",
     "text": [
      "s lesser than 20\n",
      "s is 10\n"
     ]
    }
   ],
   "source": [
    "s = 10\n",
    "if s>10:\n",
    "    print('s greater than 10')\n",
    "elif s>5:\n",
    "    print('s lesser than 20')\n",
    "    if s==10:\n",
    "        print('s is 10')\n",
    "else:\n",
    "    print('none')"
   ]
  },
  {
   "cell_type": "code",
   "execution_count": 2,
   "id": "c59595c3",
   "metadata": {},
   "outputs": [
    {
     "name": "stdout",
     "output_type": "stream",
     "text": [
      "1\n",
      "2\n",
      "3\n",
      "5\n",
      "6\n",
      "20\n",
      "40\n",
      "deep\n",
      "ratna\n",
      "['deep', 'ratna']\n"
     ]
    }
   ],
   "source": [
    "l = [1,2,3,5,6,20,40,'deep','ratna']\n",
    "m = []\n",
    "#i = 0\n",
    "for i in range(len(l)):\n",
    "    #i=i+2\n",
    "    print(l[i])\n",
    "    if type(l[i]) == str:\n",
    "        m.append(l[i])\n",
    "print(m)"
   ]
  },
  {
   "cell_type": "code",
   "execution_count": 47,
   "id": "bfe39674",
   "metadata": {},
   "outputs": [
    {
     "name": "stdout",
     "output_type": "stream",
     "text": [
      "1\n",
      "2\n",
      "3\n",
      "5\n",
      "6\n",
      "20\n",
      "40\n",
      "deep\n",
      "ratna\n",
      "after\n"
     ]
    }
   ],
   "source": [
    "#for else statement\n",
    "l = [1,2,3,5,6,20,40,'deep','ratna']\n",
    "for i in range(len(l)):\n",
    "    #i=i+2\n",
    "    print(l[i])\n",
    "else:\n",
    "    print('after')"
   ]
  },
  {
   "cell_type": "code",
   "execution_count": 5,
   "id": "26991a60",
   "metadata": {},
   "outputs": [
    {
     "name": "stdout",
     "output_type": "stream",
     "text": [
      "55\n"
     ]
    }
   ],
   "source": [
    "i=1\n",
    "s=0\n",
    "d=10\n",
    "while (i<=d):\n",
    "    s = s+i\n",
    "    i = i+1\n",
    "print(s)"
   ]
  },
  {
   "cell_type": "code",
   "execution_count": 14,
   "id": "7545fa1c",
   "metadata": {},
   "outputs": [
    {
     "name": "stdout",
     "output_type": "stream",
     "text": [
      "D\n",
      "w\n",
      "out of loop\n"
     ]
    }
   ],
   "source": [
    "for i in \"Dwip\":\n",
    "    if i == \"i\":\n",
    "        break\n",
    "    print(i)\n",
    "print(\"out of loop\")"
   ]
  },
  {
   "cell_type": "code",
   "execution_count": 4,
   "id": "4909be65",
   "metadata": {},
   "outputs": [
    {
     "name": "stdout",
     "output_type": "stream",
     "text": [
      "D\n",
      "w\n",
      "out of loop\n"
     ]
    }
   ],
   "source": [
    "for i in \"Dwip\":\n",
    "    if i == \"i\":\n",
    "        break\n",
    "    print(i)\n",
    "else:\n",
    "    print(\"whole loop executed\")\n",
    "print(\"out of loop\")"
   ]
  },
  {
   "cell_type": "code",
   "execution_count": 19,
   "id": "b7d8cb93",
   "metadata": {},
   "outputs": [
    {
     "name": "stdout",
     "output_type": "stream",
     "text": [
      "D\n",
      "w\n",
      "p\n",
      "whole loop executed\n",
      "out of loop\n"
     ]
    }
   ],
   "source": [
    "for i in \"Dwip\":\n",
    "    if i == \"i\":\n",
    "        continue\n",
    "    print(i)\n",
    "else:\n",
    "    print(\"whole loop executed\")\n",
    "print(\"out of loop\")"
   ]
  },
  {
   "cell_type": "code",
   "execution_count": 20,
   "id": "02c8f736",
   "metadata": {},
   "outputs": [
    {
     "name": "stdout",
     "output_type": "stream",
     "text": [
      "asdas\n"
     ]
    },
    {
     "data": {
      "text/plain": [
       "'asdas'"
      ]
     },
     "execution_count": 20,
     "metadata": {},
     "output_type": "execute_result"
    }
   ],
   "source": [
    "input()"
   ]
  },
  {
   "cell_type": "code",
   "execution_count": 23,
   "id": "d1ef8a9f",
   "metadata": {},
   "outputs": [
    {
     "name": "stdout",
     "output_type": "stream",
     "text": [
      "3\n"
     ]
    },
    {
     "data": {
      "text/plain": [
       "int"
      ]
     },
     "execution_count": 23,
     "metadata": {},
     "output_type": "execute_result"
    }
   ],
   "source": [
    "a =input()\n",
    "b = int(a)\n",
    "type(b)"
   ]
  },
  {
   "cell_type": "code",
   "execution_count": 24,
   "id": "fe73ac10",
   "metadata": {},
   "outputs": [
    {
     "ename": "ValueError",
     "evalue": "invalid literal for int() with base 10: 'a'",
     "output_type": "error",
     "traceback": [
      "\u001b[1;31m---------------------------------------------------------------------------\u001b[0m",
      "\u001b[1;31mValueError\u001b[0m                                Traceback (most recent call last)",
      "\u001b[1;32m<ipython-input-24-56639f3b0967>\u001b[0m in \u001b[0;36m<module>\u001b[1;34m\u001b[0m\n\u001b[1;32m----> 1\u001b[1;33m \u001b[0mb\u001b[0m \u001b[1;33m=\u001b[0m \u001b[0mint\u001b[0m\u001b[1;33m(\u001b[0m\u001b[1;34m\"a\"\u001b[0m\u001b[1;33m)\u001b[0m\u001b[1;33m\u001b[0m\u001b[1;33m\u001b[0m\u001b[0m\n\u001b[0m",
      "\u001b[1;31mValueError\u001b[0m: invalid literal for int() with base 10: 'a'"
     ]
    }
   ],
   "source": [
    "b = int(\"a\")"
   ]
  },
  {
   "cell_type": "code",
   "execution_count": 28,
   "id": "f3683315",
   "metadata": {},
   "outputs": [
    {
     "name": "stdout",
     "output_type": "stream",
     "text": [
      "8\n",
      "[8, 8]\n"
     ]
    }
   ],
   "source": [
    "a = int(input())\n",
    "l = [1,2,3,5,6,20,40,5,5,8,8]\n",
    "m = []\n",
    "#i = 0\n",
    "for i in l:\n",
    "    if i==a:\n",
    "        m.append(i)\n",
    "print(m)"
   ]
  },
  {
   "cell_type": "code",
   "execution_count": 29,
   "id": "d12cedbb",
   "metadata": {},
   "outputs": [
    {
     "data": {
      "text/plain": [
       "'RatnaDeep'"
      ]
     },
     "execution_count": 29,
     "metadata": {},
     "output_type": "execute_result"
    }
   ],
   "source": [
    "\"Ratna\"+\"Deep\""
   ]
  },
  {
   "cell_type": "code",
   "execution_count": 30,
   "id": "4e34a201",
   "metadata": {},
   "outputs": [
    {
     "data": {
      "text/plain": [
       "14"
      ]
     },
     "execution_count": 30,
     "metadata": {},
     "output_type": "execute_result"
    }
   ],
   "source": [
    "5+9"
   ]
  },
  {
   "cell_type": "code",
   "execution_count": 33,
   "id": "34e478b8",
   "metadata": {},
   "outputs": [
    {
     "data": {
      "text/plain": [
       "'Deep4'"
      ]
     },
     "execution_count": 33,
     "metadata": {},
     "output_type": "execute_result"
    }
   ],
   "source": [
    "\"Deep\"+\"4\""
   ]
  },
  {
   "cell_type": "code",
   "execution_count": 34,
   "id": "55b9dcc8",
   "metadata": {},
   "outputs": [
    {
     "data": {
      "text/plain": [
       "'Deep4'"
      ]
     },
     "execution_count": 34,
     "metadata": {},
     "output_type": "execute_result"
    }
   ],
   "source": [
    "\"Deep\"+str(4)"
   ]
  },
  {
   "cell_type": "code",
   "execution_count": 35,
   "id": "43444ac5",
   "metadata": {},
   "outputs": [
    {
     "data": {
      "text/plain": [
       "[1, 2, 3, 'deep']"
      ]
     },
     "execution_count": 35,
     "metadata": {},
     "output_type": "execute_result"
    }
   ],
   "source": [
    "[1,2,3]+[\"deep\"]"
   ]
  },
  {
   "cell_type": "code",
   "execution_count": null,
   "id": "7f975ce9",
   "metadata": {},
   "outputs": [],
   "source": []
  }
 ],
 "metadata": {
  "kernelspec": {
   "display_name": "Python 3",
   "language": "python",
   "name": "python3"
  },
  "language_info": {
   "codemirror_mode": {
    "name": "ipython",
    "version": 3
   },
   "file_extension": ".py",
   "mimetype": "text/x-python",
   "name": "python",
   "nbconvert_exporter": "python",
   "pygments_lexer": "ipython3",
   "version": "3.8.8"
  }
 },
 "nbformat": 4,
 "nbformat_minor": 5
}
